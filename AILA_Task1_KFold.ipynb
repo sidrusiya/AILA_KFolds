{
  "nbformat": 4,
  "nbformat_minor": 0,
  "metadata": {
    "colab": {
      "name": "AILA_Task1_KFold.ipynb",
      "provenance": [],
      "collapsed_sections": [],
      "include_colab_link": true
    },
    "kernelspec": {
      "name": "python3",
      "display_name": "Python 3"
    },
    "language_info": {
      "name": "python"
    },
    "accelerator": "GPU"
  },
  "cells": [
    {
      "cell_type": "markdown",
      "metadata": {
        "id": "view-in-github",
        "colab_type": "text"
      },
      "source": [
        "<a href=\"https://colab.research.google.com/github/sidrusiya/AILA_KFolds/blob/main/AILA_Task1_KFold.ipynb\" target=\"_parent\"><img src=\"https://colab.research.google.com/assets/colab-badge.svg\" alt=\"Open In Colab\"/></a>"
      ]
    },
    {
      "cell_type": "markdown",
      "metadata": {
        "id": "gc3rb0poratx"
      },
      "source": [
        "# **Import Dataset and Dependencies**"
      ]
    },
    {
      "cell_type": "code",
      "metadata": {
        "id": "l9bMs1iiqEQ9",
        "colab": {
          "base_uri": "https://localhost:8080/"
        },
        "outputId": "3b799387-da6c-4ec4-f656-33f706f58d6c"
      },
      "source": [
        "import numpy as np\n",
        "import pandas as pd\n",
        "import os\n",
        "import nltk\n",
        "import re\n",
        "import seaborn as sns\n",
        "import gensim\n",
        "nltk.download('all')"
      ],
      "execution_count": 1,
      "outputs": [
        {
          "output_type": "stream",
          "name": "stdout",
          "text": [
            "[nltk_data] Downloading collection 'all'\n",
            "[nltk_data]    | \n",
            "[nltk_data]    | Downloading package abc to /root/nltk_data...\n",
            "[nltk_data]    |   Unzipping corpora/abc.zip.\n",
            "[nltk_data]    | Downloading package alpino to /root/nltk_data...\n",
            "[nltk_data]    |   Unzipping corpora/alpino.zip.\n",
            "[nltk_data]    | Downloading package biocreative_ppi to\n",
            "[nltk_data]    |     /root/nltk_data...\n",
            "[nltk_data]    |   Unzipping corpora/biocreative_ppi.zip.\n",
            "[nltk_data]    | Downloading package brown to /root/nltk_data...\n",
            "[nltk_data]    |   Unzipping corpora/brown.zip.\n",
            "[nltk_data]    | Downloading package brown_tei to /root/nltk_data...\n",
            "[nltk_data]    |   Unzipping corpora/brown_tei.zip.\n",
            "[nltk_data]    | Downloading package cess_cat to /root/nltk_data...\n",
            "[nltk_data]    |   Unzipping corpora/cess_cat.zip.\n",
            "[nltk_data]    | Downloading package cess_esp to /root/nltk_data...\n",
            "[nltk_data]    |   Unzipping corpora/cess_esp.zip.\n",
            "[nltk_data]    | Downloading package chat80 to /root/nltk_data...\n",
            "[nltk_data]    |   Unzipping corpora/chat80.zip.\n",
            "[nltk_data]    | Downloading package city_database to\n",
            "[nltk_data]    |     /root/nltk_data...\n",
            "[nltk_data]    |   Unzipping corpora/city_database.zip.\n",
            "[nltk_data]    | Downloading package cmudict to /root/nltk_data...\n",
            "[nltk_data]    |   Unzipping corpora/cmudict.zip.\n",
            "[nltk_data]    | Downloading package comparative_sentences to\n",
            "[nltk_data]    |     /root/nltk_data...\n",
            "[nltk_data]    |   Unzipping corpora/comparative_sentences.zip.\n",
            "[nltk_data]    | Downloading package comtrans to /root/nltk_data...\n",
            "[nltk_data]    | Downloading package conll2000 to /root/nltk_data...\n",
            "[nltk_data]    |   Unzipping corpora/conll2000.zip.\n",
            "[nltk_data]    | Downloading package conll2002 to /root/nltk_data...\n",
            "[nltk_data]    |   Unzipping corpora/conll2002.zip.\n",
            "[nltk_data]    | Downloading package conll2007 to /root/nltk_data...\n",
            "[nltk_data]    | Downloading package crubadan to /root/nltk_data...\n",
            "[nltk_data]    |   Unzipping corpora/crubadan.zip.\n",
            "[nltk_data]    | Downloading package dependency_treebank to\n",
            "[nltk_data]    |     /root/nltk_data...\n",
            "[nltk_data]    |   Unzipping corpora/dependency_treebank.zip.\n",
            "[nltk_data]    | Downloading package dolch to /root/nltk_data...\n",
            "[nltk_data]    |   Unzipping corpora/dolch.zip.\n",
            "[nltk_data]    | Downloading package europarl_raw to\n",
            "[nltk_data]    |     /root/nltk_data...\n",
            "[nltk_data]    |   Unzipping corpora/europarl_raw.zip.\n",
            "[nltk_data]    | Downloading package floresta to /root/nltk_data...\n",
            "[nltk_data]    |   Unzipping corpora/floresta.zip.\n",
            "[nltk_data]    | Downloading package framenet_v15 to\n",
            "[nltk_data]    |     /root/nltk_data...\n",
            "[nltk_data]    |   Unzipping corpora/framenet_v15.zip.\n",
            "[nltk_data]    | Downloading package framenet_v17 to\n",
            "[nltk_data]    |     /root/nltk_data...\n",
            "[nltk_data]    |   Unzipping corpora/framenet_v17.zip.\n",
            "[nltk_data]    | Downloading package gazetteers to /root/nltk_data...\n",
            "[nltk_data]    |   Unzipping corpora/gazetteers.zip.\n",
            "[nltk_data]    | Downloading package genesis to /root/nltk_data...\n",
            "[nltk_data]    |   Unzipping corpora/genesis.zip.\n",
            "[nltk_data]    | Downloading package gutenberg to /root/nltk_data...\n",
            "[nltk_data]    |   Unzipping corpora/gutenberg.zip.\n",
            "[nltk_data]    | Downloading package ieer to /root/nltk_data...\n",
            "[nltk_data]    |   Unzipping corpora/ieer.zip.\n",
            "[nltk_data]    | Downloading package inaugural to /root/nltk_data...\n",
            "[nltk_data]    |   Unzipping corpora/inaugural.zip.\n",
            "[nltk_data]    | Downloading package indian to /root/nltk_data...\n",
            "[nltk_data]    |   Unzipping corpora/indian.zip.\n",
            "[nltk_data]    | Downloading package jeita to /root/nltk_data...\n",
            "[nltk_data]    | Downloading package kimmo to /root/nltk_data...\n",
            "[nltk_data]    |   Unzipping corpora/kimmo.zip.\n",
            "[nltk_data]    | Downloading package knbc to /root/nltk_data...\n",
            "[nltk_data]    | Downloading package lin_thesaurus to\n",
            "[nltk_data]    |     /root/nltk_data...\n",
            "[nltk_data]    |   Unzipping corpora/lin_thesaurus.zip.\n",
            "[nltk_data]    | Downloading package mac_morpho to /root/nltk_data...\n",
            "[nltk_data]    |   Unzipping corpora/mac_morpho.zip.\n",
            "[nltk_data]    | Downloading package machado to /root/nltk_data...\n",
            "[nltk_data]    | Downloading package masc_tagged to /root/nltk_data...\n",
            "[nltk_data]    | Downloading package moses_sample to\n",
            "[nltk_data]    |     /root/nltk_data...\n",
            "[nltk_data]    |   Unzipping models/moses_sample.zip.\n",
            "[nltk_data]    | Downloading package movie_reviews to\n",
            "[nltk_data]    |     /root/nltk_data...\n",
            "[nltk_data]    |   Unzipping corpora/movie_reviews.zip.\n",
            "[nltk_data]    | Downloading package names to /root/nltk_data...\n",
            "[nltk_data]    |   Unzipping corpora/names.zip.\n",
            "[nltk_data]    | Downloading package nombank.1.0 to /root/nltk_data...\n",
            "[nltk_data]    | Downloading package nps_chat to /root/nltk_data...\n",
            "[nltk_data]    |   Unzipping corpora/nps_chat.zip.\n",
            "[nltk_data]    | Downloading package omw-1.4 to /root/nltk_data...\n",
            "[nltk_data]    |   Unzipping corpora/omw-1.4.zip.\n",
            "[nltk_data]    | Downloading package omw to /root/nltk_data...\n",
            "[nltk_data]    |   Unzipping corpora/omw.zip.\n",
            "[nltk_data]    | Downloading package opinion_lexicon to\n",
            "[nltk_data]    |     /root/nltk_data...\n",
            "[nltk_data]    |   Unzipping corpora/opinion_lexicon.zip.\n",
            "[nltk_data]    | Downloading package paradigms to /root/nltk_data...\n",
            "[nltk_data]    |   Unzipping corpora/paradigms.zip.\n",
            "[nltk_data]    | Downloading package pil to /root/nltk_data...\n",
            "[nltk_data]    |   Unzipping corpora/pil.zip.\n",
            "[nltk_data]    | Downloading package pl196x to /root/nltk_data...\n",
            "[nltk_data]    |   Unzipping corpora/pl196x.zip.\n",
            "[nltk_data]    | Downloading package ppattach to /root/nltk_data...\n",
            "[nltk_data]    |   Unzipping corpora/ppattach.zip.\n",
            "[nltk_data]    | Downloading package problem_reports to\n",
            "[nltk_data]    |     /root/nltk_data...\n",
            "[nltk_data]    |   Unzipping corpora/problem_reports.zip.\n",
            "[nltk_data]    | Downloading package propbank to /root/nltk_data...\n",
            "[nltk_data]    | Downloading package ptb to /root/nltk_data...\n",
            "[nltk_data]    |   Unzipping corpora/ptb.zip.\n",
            "[nltk_data]    | Downloading package product_reviews_1 to\n",
            "[nltk_data]    |     /root/nltk_data...\n",
            "[nltk_data]    |   Unzipping corpora/product_reviews_1.zip.\n",
            "[nltk_data]    | Downloading package product_reviews_2 to\n",
            "[nltk_data]    |     /root/nltk_data...\n",
            "[nltk_data]    |   Unzipping corpora/product_reviews_2.zip.\n",
            "[nltk_data]    | Downloading package pros_cons to /root/nltk_data...\n",
            "[nltk_data]    |   Unzipping corpora/pros_cons.zip.\n",
            "[nltk_data]    | Downloading package qc to /root/nltk_data...\n",
            "[nltk_data]    |   Unzipping corpora/qc.zip.\n",
            "[nltk_data]    | Downloading package reuters to /root/nltk_data...\n",
            "[nltk_data]    | Downloading package rte to /root/nltk_data...\n",
            "[nltk_data]    |   Unzipping corpora/rte.zip.\n",
            "[nltk_data]    | Downloading package semcor to /root/nltk_data...\n",
            "[nltk_data]    | Downloading package senseval to /root/nltk_data...\n",
            "[nltk_data]    |   Unzipping corpora/senseval.zip.\n",
            "[nltk_data]    | Downloading package sentiwordnet to\n",
            "[nltk_data]    |     /root/nltk_data...\n",
            "[nltk_data]    |   Unzipping corpora/sentiwordnet.zip.\n",
            "[nltk_data]    | Downloading package sentence_polarity to\n",
            "[nltk_data]    |     /root/nltk_data...\n",
            "[nltk_data]    |   Unzipping corpora/sentence_polarity.zip.\n",
            "[nltk_data]    | Downloading package shakespeare to /root/nltk_data...\n",
            "[nltk_data]    |   Unzipping corpora/shakespeare.zip.\n",
            "[nltk_data]    | Downloading package sinica_treebank to\n",
            "[nltk_data]    |     /root/nltk_data...\n",
            "[nltk_data]    |   Unzipping corpora/sinica_treebank.zip.\n",
            "[nltk_data]    | Downloading package smultron to /root/nltk_data...\n",
            "[nltk_data]    |   Unzipping corpora/smultron.zip.\n",
            "[nltk_data]    | Downloading package state_union to /root/nltk_data...\n",
            "[nltk_data]    |   Unzipping corpora/state_union.zip.\n",
            "[nltk_data]    | Downloading package stopwords to /root/nltk_data...\n",
            "[nltk_data]    |   Unzipping corpora/stopwords.zip.\n",
            "[nltk_data]    | Downloading package subjectivity to\n",
            "[nltk_data]    |     /root/nltk_data...\n",
            "[nltk_data]    |   Unzipping corpora/subjectivity.zip.\n",
            "[nltk_data]    | Downloading package swadesh to /root/nltk_data...\n",
            "[nltk_data]    |   Unzipping corpora/swadesh.zip.\n",
            "[nltk_data]    | Downloading package switchboard to /root/nltk_data...\n",
            "[nltk_data]    |   Unzipping corpora/switchboard.zip.\n",
            "[nltk_data]    | Downloading package timit to /root/nltk_data...\n",
            "[nltk_data]    |   Unzipping corpora/timit.zip.\n",
            "[nltk_data]    | Downloading package toolbox to /root/nltk_data...\n",
            "[nltk_data]    |   Unzipping corpora/toolbox.zip.\n",
            "[nltk_data]    | Downloading package treebank to /root/nltk_data...\n",
            "[nltk_data]    |   Unzipping corpora/treebank.zip.\n",
            "[nltk_data]    | Downloading package twitter_samples to\n",
            "[nltk_data]    |     /root/nltk_data...\n",
            "[nltk_data]    |   Unzipping corpora/twitter_samples.zip.\n",
            "[nltk_data]    | Downloading package udhr to /root/nltk_data...\n",
            "[nltk_data]    |   Unzipping corpora/udhr.zip.\n",
            "[nltk_data]    | Downloading package udhr2 to /root/nltk_data...\n",
            "[nltk_data]    |   Unzipping corpora/udhr2.zip.\n",
            "[nltk_data]    | Downloading package unicode_samples to\n",
            "[nltk_data]    |     /root/nltk_data...\n",
            "[nltk_data]    |   Unzipping corpora/unicode_samples.zip.\n",
            "[nltk_data]    | Downloading package universal_treebanks_v20 to\n",
            "[nltk_data]    |     /root/nltk_data...\n",
            "[nltk_data]    | Downloading package verbnet to /root/nltk_data...\n",
            "[nltk_data]    |   Unzipping corpora/verbnet.zip.\n",
            "[nltk_data]    | Downloading package verbnet3 to /root/nltk_data...\n",
            "[nltk_data]    |   Unzipping corpora/verbnet3.zip.\n",
            "[nltk_data]    | Downloading package webtext to /root/nltk_data...\n",
            "[nltk_data]    |   Unzipping corpora/webtext.zip.\n",
            "[nltk_data]    | Downloading package wordnet to /root/nltk_data...\n",
            "[nltk_data]    |   Unzipping corpora/wordnet.zip.\n",
            "[nltk_data]    | Downloading package wordnet31 to /root/nltk_data...\n",
            "[nltk_data]    |   Unzipping corpora/wordnet31.zip.\n",
            "[nltk_data]    | Downloading package wordnet_ic to /root/nltk_data...\n",
            "[nltk_data]    |   Unzipping corpora/wordnet_ic.zip.\n",
            "[nltk_data]    | Downloading package words to /root/nltk_data...\n",
            "[nltk_data]    |   Unzipping corpora/words.zip.\n",
            "[nltk_data]    | Downloading package ycoe to /root/nltk_data...\n",
            "[nltk_data]    |   Unzipping corpora/ycoe.zip.\n",
            "[nltk_data]    | Downloading package rslp to /root/nltk_data...\n",
            "[nltk_data]    |   Unzipping stemmers/rslp.zip.\n",
            "[nltk_data]    | Downloading package maxent_treebank_pos_tagger to\n",
            "[nltk_data]    |     /root/nltk_data...\n",
            "[nltk_data]    |   Unzipping taggers/maxent_treebank_pos_tagger.zip.\n",
            "[nltk_data]    | Downloading package universal_tagset to\n",
            "[nltk_data]    |     /root/nltk_data...\n",
            "[nltk_data]    |   Unzipping taggers/universal_tagset.zip.\n",
            "[nltk_data]    | Downloading package maxent_ne_chunker to\n",
            "[nltk_data]    |     /root/nltk_data...\n",
            "[nltk_data]    |   Unzipping chunkers/maxent_ne_chunker.zip.\n",
            "[nltk_data]    | Downloading package punkt to /root/nltk_data...\n",
            "[nltk_data]    |   Unzipping tokenizers/punkt.zip.\n",
            "[nltk_data]    | Downloading package book_grammars to\n",
            "[nltk_data]    |     /root/nltk_data...\n",
            "[nltk_data]    |   Unzipping grammars/book_grammars.zip.\n",
            "[nltk_data]    | Downloading package sample_grammars to\n",
            "[nltk_data]    |     /root/nltk_data...\n",
            "[nltk_data]    |   Unzipping grammars/sample_grammars.zip.\n",
            "[nltk_data]    | Downloading package spanish_grammars to\n",
            "[nltk_data]    |     /root/nltk_data...\n",
            "[nltk_data]    |   Unzipping grammars/spanish_grammars.zip.\n",
            "[nltk_data]    | Downloading package basque_grammars to\n",
            "[nltk_data]    |     /root/nltk_data...\n",
            "[nltk_data]    |   Unzipping grammars/basque_grammars.zip.\n",
            "[nltk_data]    | Downloading package large_grammars to\n",
            "[nltk_data]    |     /root/nltk_data...\n",
            "[nltk_data]    |   Unzipping grammars/large_grammars.zip.\n",
            "[nltk_data]    | Downloading package tagsets to /root/nltk_data...\n",
            "[nltk_data]    |   Unzipping help/tagsets.zip.\n",
            "[nltk_data]    | Downloading package snowball_data to\n",
            "[nltk_data]    |     /root/nltk_data...\n",
            "[nltk_data]    | Downloading package bllip_wsj_no_aux to\n",
            "[nltk_data]    |     /root/nltk_data...\n",
            "[nltk_data]    |   Unzipping models/bllip_wsj_no_aux.zip.\n",
            "[nltk_data]    | Downloading package word2vec_sample to\n",
            "[nltk_data]    |     /root/nltk_data...\n",
            "[nltk_data]    |   Unzipping models/word2vec_sample.zip.\n",
            "[nltk_data]    | Downloading package panlex_swadesh to\n",
            "[nltk_data]    |     /root/nltk_data...\n",
            "[nltk_data]    | Downloading package mte_teip5 to /root/nltk_data...\n",
            "[nltk_data]    |   Unzipping corpora/mte_teip5.zip.\n",
            "[nltk_data]    | Downloading package averaged_perceptron_tagger to\n",
            "[nltk_data]    |     /root/nltk_data...\n",
            "[nltk_data]    |   Unzipping taggers/averaged_perceptron_tagger.zip.\n",
            "[nltk_data]    | Downloading package averaged_perceptron_tagger_ru to\n",
            "[nltk_data]    |     /root/nltk_data...\n",
            "[nltk_data]    |   Unzipping\n",
            "[nltk_data]    |       taggers/averaged_perceptron_tagger_ru.zip.\n",
            "[nltk_data]    | Downloading package perluniprops to\n",
            "[nltk_data]    |     /root/nltk_data...\n",
            "[nltk_data]    |   Unzipping misc/perluniprops.zip.\n",
            "[nltk_data]    | Downloading package nonbreaking_prefixes to\n",
            "[nltk_data]    |     /root/nltk_data...\n",
            "[nltk_data]    |   Unzipping corpora/nonbreaking_prefixes.zip.\n",
            "[nltk_data]    | Downloading package vader_lexicon to\n",
            "[nltk_data]    |     /root/nltk_data...\n",
            "[nltk_data]    | Downloading package porter_test to /root/nltk_data...\n",
            "[nltk_data]    |   Unzipping stemmers/porter_test.zip.\n",
            "[nltk_data]    | Downloading package wmt15_eval to /root/nltk_data...\n",
            "[nltk_data]    |   Unzipping models/wmt15_eval.zip.\n",
            "[nltk_data]    | Downloading package mwa_ppdb to /root/nltk_data...\n",
            "[nltk_data]    |   Unzipping misc/mwa_ppdb.zip.\n",
            "[nltk_data]    | \n",
            "[nltk_data]  Done downloading collection all\n"
          ]
        },
        {
          "output_type": "execute_result",
          "data": {
            "text/plain": [
              "True"
            ]
          },
          "metadata": {},
          "execution_count": 1
        }
      ]
    },
    {
      "cell_type": "code",
      "metadata": {
        "id": "EESroL50qqOO",
        "colab": {
          "base_uri": "https://localhost:8080/"
        },
        "outputId": "ca63d10c-0c8f-41bf-9264-1eb0339fe55c"
      },
      "source": [
        "import tensorflow as tf\n",
        "from tensorflow.keras.preprocessing.text import Tokenizer\n",
        "from tensorflow.keras.layers import Embedding, Dense, Dropout, Bidirectional, LSTM\n",
        "from tensorflow.keras.preprocessing.sequence import pad_sequences\n",
        "from tensorflow.keras.utils import to_categorical\n",
        "from google.colab import drive\n",
        "from nltk import WordNetLemmatizer\n",
        "from nltk.corpus import stopwords\n",
        "import matplotlib.pyplot as plt\n",
        "!pip3 install tensorflow_text\n",
        "import tensorflow_text\n",
        "!pip install -q tf-models-official\n",
        "!pip install -q -U tensorflow-text\n",
        "from tensorflow_text.tools.wordpiece_vocab import bert_vocab_from_dataset as bert_vocab\n",
        "import tensorflow_hub as hub\n",
        "import tensorflow_text as tf_text"
      ],
      "execution_count": 2,
      "outputs": [
        {
          "output_type": "stream",
          "name": "stdout",
          "text": [
            "Collecting tensorflow_text\n",
            "  Downloading tensorflow_text-2.7.3-cp37-cp37m-manylinux2010_x86_64.whl (4.9 MB)\n",
            "\u001b[K     |████████████████████████████████| 4.9 MB 5.5 MB/s \n",
            "\u001b[?25hRequirement already satisfied: tensorflow<2.8,>=2.7.0 in /usr/local/lib/python3.7/dist-packages (from tensorflow_text) (2.7.0)\n",
            "Requirement already satisfied: tensorflow-hub>=0.8.0 in /usr/local/lib/python3.7/dist-packages (from tensorflow_text) (0.12.0)\n",
            "Requirement already satisfied: keras<2.8,>=2.7.0rc0 in /usr/local/lib/python3.7/dist-packages (from tensorflow<2.8,>=2.7.0->tensorflow_text) (2.7.0)\n",
            "Requirement already satisfied: protobuf>=3.9.2 in /usr/local/lib/python3.7/dist-packages (from tensorflow<2.8,>=2.7.0->tensorflow_text) (3.17.3)\n",
            "Requirement already satisfied: google-pasta>=0.1.1 in /usr/local/lib/python3.7/dist-packages (from tensorflow<2.8,>=2.7.0->tensorflow_text) (0.2.0)\n",
            "Requirement already satisfied: tensorboard~=2.6 in /usr/local/lib/python3.7/dist-packages (from tensorflow<2.8,>=2.7.0->tensorflow_text) (2.7.0)\n",
            "Requirement already satisfied: typing-extensions>=3.6.6 in /usr/local/lib/python3.7/dist-packages (from tensorflow<2.8,>=2.7.0->tensorflow_text) (3.10.0.2)\n",
            "Requirement already satisfied: opt-einsum>=2.3.2 in /usr/local/lib/python3.7/dist-packages (from tensorflow<2.8,>=2.7.0->tensorflow_text) (3.3.0)\n",
            "Requirement already satisfied: wheel<1.0,>=0.32.0 in /usr/local/lib/python3.7/dist-packages (from tensorflow<2.8,>=2.7.0->tensorflow_text) (0.37.0)\n",
            "Requirement already satisfied: six>=1.12.0 in /usr/local/lib/python3.7/dist-packages (from tensorflow<2.8,>=2.7.0->tensorflow_text) (1.15.0)\n",
            "Requirement already satisfied: wrapt>=1.11.0 in /usr/local/lib/python3.7/dist-packages (from tensorflow<2.8,>=2.7.0->tensorflow_text) (1.13.3)\n",
            "Requirement already satisfied: grpcio<2.0,>=1.24.3 in /usr/local/lib/python3.7/dist-packages (from tensorflow<2.8,>=2.7.0->tensorflow_text) (1.42.0)\n",
            "Requirement already satisfied: gast<0.5.0,>=0.2.1 in /usr/local/lib/python3.7/dist-packages (from tensorflow<2.8,>=2.7.0->tensorflow_text) (0.4.0)\n",
            "Requirement already satisfied: numpy>=1.14.5 in /usr/local/lib/python3.7/dist-packages (from tensorflow<2.8,>=2.7.0->tensorflow_text) (1.19.5)\n",
            "Requirement already satisfied: tensorflow-io-gcs-filesystem>=0.21.0 in /usr/local/lib/python3.7/dist-packages (from tensorflow<2.8,>=2.7.0->tensorflow_text) (0.22.0)\n",
            "Requirement already satisfied: astunparse>=1.6.0 in /usr/local/lib/python3.7/dist-packages (from tensorflow<2.8,>=2.7.0->tensorflow_text) (1.6.3)\n",
            "Requirement already satisfied: libclang>=9.0.1 in /usr/local/lib/python3.7/dist-packages (from tensorflow<2.8,>=2.7.0->tensorflow_text) (12.0.0)\n",
            "Requirement already satisfied: flatbuffers<3.0,>=1.12 in /usr/local/lib/python3.7/dist-packages (from tensorflow<2.8,>=2.7.0->tensorflow_text) (2.0)\n",
            "Requirement already satisfied: h5py>=2.9.0 in /usr/local/lib/python3.7/dist-packages (from tensorflow<2.8,>=2.7.0->tensorflow_text) (3.1.0)\n",
            "Requirement already satisfied: tensorflow-estimator<2.8,~=2.7.0rc0 in /usr/local/lib/python3.7/dist-packages (from tensorflow<2.8,>=2.7.0->tensorflow_text) (2.7.0)\n",
            "Requirement already satisfied: termcolor>=1.1.0 in /usr/local/lib/python3.7/dist-packages (from tensorflow<2.8,>=2.7.0->tensorflow_text) (1.1.0)\n",
            "Requirement already satisfied: keras-preprocessing>=1.1.1 in /usr/local/lib/python3.7/dist-packages (from tensorflow<2.8,>=2.7.0->tensorflow_text) (1.1.2)\n",
            "Requirement already satisfied: absl-py>=0.4.0 in /usr/local/lib/python3.7/dist-packages (from tensorflow<2.8,>=2.7.0->tensorflow_text) (0.12.0)\n",
            "Requirement already satisfied: cached-property in /usr/local/lib/python3.7/dist-packages (from h5py>=2.9.0->tensorflow<2.8,>=2.7.0->tensorflow_text) (1.5.2)\n",
            "Requirement already satisfied: werkzeug>=0.11.15 in /usr/local/lib/python3.7/dist-packages (from tensorboard~=2.6->tensorflow<2.8,>=2.7.0->tensorflow_text) (1.0.1)\n",
            "Requirement already satisfied: tensorboard-data-server<0.7.0,>=0.6.0 in /usr/local/lib/python3.7/dist-packages (from tensorboard~=2.6->tensorflow<2.8,>=2.7.0->tensorflow_text) (0.6.1)\n",
            "Requirement already satisfied: google-auth<3,>=1.6.3 in /usr/local/lib/python3.7/dist-packages (from tensorboard~=2.6->tensorflow<2.8,>=2.7.0->tensorflow_text) (1.35.0)\n",
            "Requirement already satisfied: requests<3,>=2.21.0 in /usr/local/lib/python3.7/dist-packages (from tensorboard~=2.6->tensorflow<2.8,>=2.7.0->tensorflow_text) (2.23.0)\n",
            "Requirement already satisfied: setuptools>=41.0.0 in /usr/local/lib/python3.7/dist-packages (from tensorboard~=2.6->tensorflow<2.8,>=2.7.0->tensorflow_text) (57.4.0)\n",
            "Requirement already satisfied: markdown>=2.6.8 in /usr/local/lib/python3.7/dist-packages (from tensorboard~=2.6->tensorflow<2.8,>=2.7.0->tensorflow_text) (3.3.6)\n",
            "Requirement already satisfied: tensorboard-plugin-wit>=1.6.0 in /usr/local/lib/python3.7/dist-packages (from tensorboard~=2.6->tensorflow<2.8,>=2.7.0->tensorflow_text) (1.8.0)\n",
            "Requirement already satisfied: google-auth-oauthlib<0.5,>=0.4.1 in /usr/local/lib/python3.7/dist-packages (from tensorboard~=2.6->tensorflow<2.8,>=2.7.0->tensorflow_text) (0.4.6)\n",
            "Requirement already satisfied: rsa<5,>=3.1.4 in /usr/local/lib/python3.7/dist-packages (from google-auth<3,>=1.6.3->tensorboard~=2.6->tensorflow<2.8,>=2.7.0->tensorflow_text) (4.8)\n",
            "Requirement already satisfied: pyasn1-modules>=0.2.1 in /usr/local/lib/python3.7/dist-packages (from google-auth<3,>=1.6.3->tensorboard~=2.6->tensorflow<2.8,>=2.7.0->tensorflow_text) (0.2.8)\n",
            "Requirement already satisfied: cachetools<5.0,>=2.0.0 in /usr/local/lib/python3.7/dist-packages (from google-auth<3,>=1.6.3->tensorboard~=2.6->tensorflow<2.8,>=2.7.0->tensorflow_text) (4.2.4)\n",
            "Requirement already satisfied: requests-oauthlib>=0.7.0 in /usr/local/lib/python3.7/dist-packages (from google-auth-oauthlib<0.5,>=0.4.1->tensorboard~=2.6->tensorflow<2.8,>=2.7.0->tensorflow_text) (1.3.0)\n",
            "Requirement already satisfied: importlib-metadata>=4.4 in /usr/local/lib/python3.7/dist-packages (from markdown>=2.6.8->tensorboard~=2.6->tensorflow<2.8,>=2.7.0->tensorflow_text) (4.8.2)\n",
            "Requirement already satisfied: zipp>=0.5 in /usr/local/lib/python3.7/dist-packages (from importlib-metadata>=4.4->markdown>=2.6.8->tensorboard~=2.6->tensorflow<2.8,>=2.7.0->tensorflow_text) (3.6.0)\n",
            "Requirement already satisfied: pyasn1<0.5.0,>=0.4.6 in /usr/local/lib/python3.7/dist-packages (from pyasn1-modules>=0.2.1->google-auth<3,>=1.6.3->tensorboard~=2.6->tensorflow<2.8,>=2.7.0->tensorflow_text) (0.4.8)\n",
            "Requirement already satisfied: chardet<4,>=3.0.2 in /usr/local/lib/python3.7/dist-packages (from requests<3,>=2.21.0->tensorboard~=2.6->tensorflow<2.8,>=2.7.0->tensorflow_text) (3.0.4)\n",
            "Requirement already satisfied: certifi>=2017.4.17 in /usr/local/lib/python3.7/dist-packages (from requests<3,>=2.21.0->tensorboard~=2.6->tensorflow<2.8,>=2.7.0->tensorflow_text) (2021.10.8)\n",
            "Requirement already satisfied: urllib3!=1.25.0,!=1.25.1,<1.26,>=1.21.1 in /usr/local/lib/python3.7/dist-packages (from requests<3,>=2.21.0->tensorboard~=2.6->tensorflow<2.8,>=2.7.0->tensorflow_text) (1.24.3)\n",
            "Requirement already satisfied: idna<3,>=2.5 in /usr/local/lib/python3.7/dist-packages (from requests<3,>=2.21.0->tensorboard~=2.6->tensorflow<2.8,>=2.7.0->tensorflow_text) (2.10)\n",
            "Requirement already satisfied: oauthlib>=3.0.0 in /usr/local/lib/python3.7/dist-packages (from requests-oauthlib>=0.7.0->google-auth-oauthlib<0.5,>=0.4.1->tensorboard~=2.6->tensorflow<2.8,>=2.7.0->tensorflow_text) (3.1.1)\n",
            "Installing collected packages: tensorflow-text\n",
            "Successfully installed tensorflow-text-2.7.3\n",
            "\u001b[K     |████████████████████████████████| 1.8 MB 5.5 MB/s \n",
            "\u001b[K     |████████████████████████████████| 99 kB 6.8 MB/s \n",
            "\u001b[K     |████████████████████████████████| 213 kB 32.9 MB/s \n",
            "\u001b[K     |████████████████████████████████| 90 kB 7.8 MB/s \n",
            "\u001b[K     |████████████████████████████████| 43 kB 1.1 MB/s \n",
            "\u001b[K     |████████████████████████████████| 352 kB 31.4 MB/s \n",
            "\u001b[K     |████████████████████████████████| 596 kB 24.2 MB/s \n",
            "\u001b[K     |████████████████████████████████| 47.6 MB 2.7 MB/s \n",
            "\u001b[K     |████████████████████████████████| 1.1 MB 31.7 MB/s \n",
            "\u001b[K     |████████████████████████████████| 1.2 MB 30.1 MB/s \n",
            "\u001b[?25h  Building wheel for py-cpuinfo (setup.py) ... \u001b[?25l\u001b[?25hdone\n",
            "  Building wheel for seqeval (setup.py) ... \u001b[?25l\u001b[?25hdone\n"
          ]
        }
      ]
    },
    {
      "cell_type": "code",
      "metadata": {
        "id": "kcEXgRb0qsy0",
        "colab": {
          "base_uri": "https://localhost:8080/"
        },
        "outputId": "d0ad18a2-fb28-4963-8c05-3e1a927fd77e"
      },
      "source": [
        "drive.mount('/content/drive')\n",
        "PATH = '/content/drive/MyDrive/Task1/'\n",
        "list_dir = os.listdir(PATH)\n",
        "text = []\n",
        "labels = []\n",
        "for file in list_dir:\n",
        "    file_path = PATH + file\n",
        "    with open(file_path, 'r') as f:\n",
        "        for line in f:\n",
        "            line = line.split(sep='\\t')\n",
        "            text.append(line[0])\n",
        "            labels.append(line[1][:-1])\n",
        "\n",
        "data = {'Text': text, \"labels\": labels}\n",
        "dataset1 = pd.DataFrame(data=data)"
      ],
      "execution_count": 3,
      "outputs": [
        {
          "output_type": "stream",
          "name": "stdout",
          "text": [
            "Mounted at /content/drive\n"
          ]
        }
      ]
    },
    {
      "cell_type": "code",
      "metadata": {
        "id": "m8IV4bIxkQVu",
        "colab": {
          "base_uri": "https://localhost:8080/",
          "height": 206
        },
        "outputId": "8310feda-e623-4828-f558-7c6e2f6cefdf"
      },
      "source": [
        "dataset1.head()"
      ],
      "execution_count": 4,
      "outputs": [
        {
          "output_type": "execute_result",
          "data": {
            "text/html": [
              "<div>\n",
              "<style scoped>\n",
              "    .dataframe tbody tr th:only-of-type {\n",
              "        vertical-align: middle;\n",
              "    }\n",
              "\n",
              "    .dataframe tbody tr th {\n",
              "        vertical-align: top;\n",
              "    }\n",
              "\n",
              "    .dataframe thead th {\n",
              "        text-align: right;\n",
              "    }\n",
              "</style>\n",
              "<table border=\"1\" class=\"dataframe\">\n",
              "  <thead>\n",
              "    <tr style=\"text-align: right;\">\n",
              "      <th></th>\n",
              "      <th>Text</th>\n",
              "      <th>labels</th>\n",
              "    </tr>\n",
              "  </thead>\n",
              "  <tbody>\n",
              "    <tr>\n",
              "      <th>0</th>\n",
              "      <td>The appellant who was arraigned as Accused 2 w...</td>\n",
              "      <td>Facts</td>\n",
              "    </tr>\n",
              "    <tr>\n",
              "      <th>1</th>\n",
              "      <td>The allegations against the accused, inter ali...</td>\n",
              "      <td>Facts</td>\n",
              "    </tr>\n",
              "    <tr>\n",
              "      <th>2</th>\n",
              "      <td>Bindula Devi was married to Accused 1 Jaipraks...</td>\n",
              "      <td>Facts</td>\n",
              "    </tr>\n",
              "    <tr>\n",
              "      <th>3</th>\n",
              "      <td>The appellant and Accused 3 Shakun Devo Yadav ...</td>\n",
              "      <td>Facts</td>\n",
              "    </tr>\n",
              "    <tr>\n",
              "      <th>4</th>\n",
              "      <td>Accused 4 Dani Dutta Yadav is their father and...</td>\n",
              "      <td>Facts</td>\n",
              "    </tr>\n",
              "  </tbody>\n",
              "</table>\n",
              "</div>"
            ],
            "text/plain": [
              "                                                Text labels\n",
              "0  The appellant who was arraigned as Accused 2 w...  Facts\n",
              "1  The allegations against the accused, inter ali...  Facts\n",
              "2  Bindula Devi was married to Accused 1 Jaipraks...  Facts\n",
              "3  The appellant and Accused 3 Shakun Devo Yadav ...  Facts\n",
              "4  Accused 4 Dani Dutta Yadav is their father and...  Facts"
            ]
          },
          "metadata": {},
          "execution_count": 4
        }
      ]
    },
    {
      "cell_type": "code",
      "metadata": {
        "id": "40t5fU4hk6un",
        "colab": {
          "base_uri": "https://localhost:8080/"
        },
        "outputId": "07d1e827-22ee-4339-e4c1-26ccb8ce6810"
      },
      "source": [
        "dataset1.shape"
      ],
      "execution_count": 5,
      "outputs": [
        {
          "output_type": "execute_result",
          "data": {
            "text/plain": [
              "(11285, 2)"
            ]
          },
          "metadata": {},
          "execution_count": 5
        }
      ]
    },
    {
      "cell_type": "markdown",
      "metadata": {
        "id": "rxqoej62rrFU"
      },
      "source": [
        "# **Data Preprocessing**"
      ]
    },
    {
      "cell_type": "code",
      "metadata": {
        "id": "xybqUDN_q3IL",
        "colab": {
          "base_uri": "https://localhost:8080/"
        },
        "outputId": "d87030b2-0558-471d-c003-9a39ff0d8bb1"
      },
      "source": [
        "dataset1.labels.value_counts()"
      ],
      "execution_count": 6,
      "outputs": [
        {
          "output_type": "execute_result",
          "data": {
            "text/plain": [
              "Ratio of the decision      4211\n",
              "Facts                      2622\n",
              "Precedent                  1787\n",
              "Argument                    939\n",
              "Statute                     902\n",
              "Ruling by Lower Court       483\n",
              "Ruling by Present Court     341\n",
              "Name: labels, dtype: int64"
            ]
          },
          "metadata": {},
          "execution_count": 6
        }
      ]
    },
    {
      "cell_type": "code",
      "metadata": {
        "id": "plnKSMyoq-zF",
        "colab": {
          "base_uri": "https://localhost:8080/"
        },
        "outputId": "a66b2a2e-2389-4247-eec3-e790edb6b334"
      },
      "source": [
        "event_types_dict = {}\n",
        "for num, name in enumerate(list(dataset1['labels'].unique())):\n",
        "    event_types_dict[name] = num\n",
        "    # print(name, \" : \", num)\n",
        "\n",
        "event_types_dict\n",
        "\n",
        "event_types_dict_inverse = {k:v for v,k in event_types_dict.items()}\n",
        "print(event_types_dict)\n",
        "print( event_types_dict_inverse)"
      ],
      "execution_count": 7,
      "outputs": [
        {
          "output_type": "stream",
          "name": "stdout",
          "text": [
            "{'Facts': 0, 'Ruling by Lower Court': 1, 'Argument': 2, 'Precedent': 3, 'Ratio of the decision': 4, 'Statute': 5, 'Ruling by Present Court': 6}\n",
            "{0: 'Facts', 1: 'Ruling by Lower Court', 2: 'Argument', 3: 'Precedent', 4: 'Ratio of the decision', 5: 'Statute', 6: 'Ruling by Present Court'}\n"
          ]
        }
      ]
    },
    {
      "cell_type": "code",
      "metadata": {
        "id": "HJ9M9AX3rFJf",
        "colab": {
          "base_uri": "https://localhost:8080/",
          "height": 441
        },
        "outputId": "7804891c-f53e-4e8d-9e71-55187bebfbf2"
      },
      "source": [
        "def text_to_numerical_category(name):\n",
        "    num = event_types_dict[name]\n",
        "    return num\n",
        "\n",
        "print(text_to_numerical_category('Facts'))\n",
        "dataset1['num_labels'] = dataset1['labels'].apply(text_to_numerical_category)\n",
        "dataset1"
      ],
      "execution_count": 8,
      "outputs": [
        {
          "output_type": "stream",
          "name": "stdout",
          "text": [
            "0\n"
          ]
        },
        {
          "output_type": "execute_result",
          "data": {
            "text/html": [
              "<div>\n",
              "<style scoped>\n",
              "    .dataframe tbody tr th:only-of-type {\n",
              "        vertical-align: middle;\n",
              "    }\n",
              "\n",
              "    .dataframe tbody tr th {\n",
              "        vertical-align: top;\n",
              "    }\n",
              "\n",
              "    .dataframe thead th {\n",
              "        text-align: right;\n",
              "    }\n",
              "</style>\n",
              "<table border=\"1\" class=\"dataframe\">\n",
              "  <thead>\n",
              "    <tr style=\"text-align: right;\">\n",
              "      <th></th>\n",
              "      <th>Text</th>\n",
              "      <th>labels</th>\n",
              "      <th>num_labels</th>\n",
              "    </tr>\n",
              "  </thead>\n",
              "  <tbody>\n",
              "    <tr>\n",
              "      <th>0</th>\n",
              "      <td>The appellant who was arraigned as Accused 2 w...</td>\n",
              "      <td>Facts</td>\n",
              "      <td>0</td>\n",
              "    </tr>\n",
              "    <tr>\n",
              "      <th>1</th>\n",
              "      <td>The allegations against the accused, inter ali...</td>\n",
              "      <td>Facts</td>\n",
              "      <td>0</td>\n",
              "    </tr>\n",
              "    <tr>\n",
              "      <th>2</th>\n",
              "      <td>Bindula Devi was married to Accused 1 Jaipraks...</td>\n",
              "      <td>Facts</td>\n",
              "      <td>0</td>\n",
              "    </tr>\n",
              "    <tr>\n",
              "      <th>3</th>\n",
              "      <td>The appellant and Accused 3 Shakun Devo Yadav ...</td>\n",
              "      <td>Facts</td>\n",
              "      <td>0</td>\n",
              "    </tr>\n",
              "    <tr>\n",
              "      <th>4</th>\n",
              "      <td>Accused 4 Dani Dutta Yadav is their father and...</td>\n",
              "      <td>Facts</td>\n",
              "      <td>0</td>\n",
              "    </tr>\n",
              "    <tr>\n",
              "      <th>...</th>\n",
              "      <td>...</td>\n",
              "      <td>...</td>\n",
              "      <td>...</td>\n",
              "    </tr>\n",
              "    <tr>\n",
              "      <th>11280</th>\n",
              "      <td>Suffice it to state that the appellant,as a fa...</td>\n",
              "      <td>Ratio of the decision</td>\n",
              "      <td>4</td>\n",
              "    </tr>\n",
              "    <tr>\n",
              "      <th>11281</th>\n",
              "      <td>The High Court,in our view,declined,for good r...</td>\n",
              "      <td>Ratio of the decision</td>\n",
              "      <td>4</td>\n",
              "    </tr>\n",
              "    <tr>\n",
              "      <th>11282</th>\n",
              "      <td>We are also not persuaded to take a different ...</td>\n",
              "      <td>Ratio of the decision</td>\n",
              "      <td>4</td>\n",
              "    </tr>\n",
              "    <tr>\n",
              "      <th>11283</th>\n",
              "      <td>In these circumstances,we are of the view that...</td>\n",
              "      <td>Ratio of the decision</td>\n",
              "      <td>4</td>\n",
              "    </tr>\n",
              "    <tr>\n",
              "      <th>11284</th>\n",
              "      <td>The appeal is accordingly dismissed but,in the...</td>\n",
              "      <td>Ruling by Present Court</td>\n",
              "      <td>6</td>\n",
              "    </tr>\n",
              "  </tbody>\n",
              "</table>\n",
              "<p>11285 rows × 3 columns</p>\n",
              "</div>"
            ],
            "text/plain": [
              "                                                    Text  ... num_labels\n",
              "0      The appellant who was arraigned as Accused 2 w...  ...          0\n",
              "1      The allegations against the accused, inter ali...  ...          0\n",
              "2      Bindula Devi was married to Accused 1 Jaipraks...  ...          0\n",
              "3      The appellant and Accused 3 Shakun Devo Yadav ...  ...          0\n",
              "4      Accused 4 Dani Dutta Yadav is their father and...  ...          0\n",
              "...                                                  ...  ...        ...\n",
              "11280  Suffice it to state that the appellant,as a fa...  ...          4\n",
              "11281  The High Court,in our view,declined,for good r...  ...          4\n",
              "11282  We are also not persuaded to take a different ...  ...          4\n",
              "11283  In these circumstances,we are of the view that...  ...          4\n",
              "11284  The appeal is accordingly dismissed but,in the...  ...          6\n",
              "\n",
              "[11285 rows x 3 columns]"
            ]
          },
          "metadata": {},
          "execution_count": 8
        }
      ]
    },
    {
      "cell_type": "markdown",
      "metadata": {
        "id": "eyDduPyerWUz"
      },
      "source": [
        "# **Lowering the characters and removing the stopwords**"
      ]
    },
    {
      "cell_type": "code",
      "metadata": {
        "id": "izDPWXUAIZgV"
      },
      "source": [
        "# Remove Excess [Size:: ] from EoS\n",
        "def remove_size(text):\n",
        "\tresult = re.search(\"\\[size\", text)\n",
        "\tif result is not None:\n",
        "\t\ttext = text[:result.start()]\n",
        "\treturn text.strip()\n",
        "\n",
        "months = ['january', 'jan', 'feb', 'mar', 'apr', 'aug', 'sept', 'oct', 'nov', 'dec', 'feburary', 'february', 'march', 'april', 'may', 'june', 'july', 'august', 'september', 'october', 'november', 'december', 'on']\n",
        "def remove_months(text):\n",
        "    text = text.split()\n",
        "    text = [word for word in text if word.lower() not in set(months)]\n",
        "    text = ' '.join(text)\n",
        "    return text\n",
        "\n",
        "def remove_nums(text):\n",
        "    result = re.sub(r'[0-9+]', '', text)\n",
        "    return result\n",
        "\n",
        "def remove_comma(text):\n",
        "    result = re.sub(r',', '', text)\n",
        "    return result"
      ],
      "execution_count": 9,
      "outputs": []
    },
    {
      "cell_type": "code",
      "metadata": {
        "id": "lU-VV2iNrK0j",
        "colab": {
          "base_uri": "https://localhost:8080/"
        },
        "outputId": "2eccda05-5219-47d0-8782-f4ed3e578ef2"
      },
      "source": [
        "import sys\n",
        "text = []\n",
        "lem_text = []\n",
        "for i in dataset1.index:\n",
        "    dataset1['Text'][i] = remove_size(dataset1['Text'][i])\n",
        "    dataset1['Text'][i] = remove_months(dataset1['Text'][i])\n",
        "    dataset1['Text'][i] = remove_nums(dataset1['Text'][i])\n",
        "    dataset1['Text'][i] = remove_comma(dataset1['Text'][i])\n",
        "    temp = dataset1['Text'][i].lower().split()\n",
        "    clean = [word for word in temp if word not in stopwords.words('english')]\n",
        "    clean = \" \".join(clean)\n",
        "    text.append(clean)\n",
        "    lem_text.append(clean)"
      ],
      "execution_count": 10,
      "outputs": [
        {
          "output_type": "stream",
          "name": "stderr",
          "text": [
            "/usr/local/lib/python3.7/dist-packages/ipykernel_launcher.py:5: SettingWithCopyWarning: \n",
            "A value is trying to be set on a copy of a slice from a DataFrame\n",
            "\n",
            "See the caveats in the documentation: https://pandas.pydata.org/pandas-docs/stable/user_guide/indexing.html#returning-a-view-versus-a-copy\n",
            "  \"\"\"\n",
            "/usr/local/lib/python3.7/dist-packages/ipykernel_launcher.py:6: SettingWithCopyWarning: \n",
            "A value is trying to be set on a copy of a slice from a DataFrame\n",
            "\n",
            "See the caveats in the documentation: https://pandas.pydata.org/pandas-docs/stable/user_guide/indexing.html#returning-a-view-versus-a-copy\n",
            "  \n",
            "/usr/local/lib/python3.7/dist-packages/ipykernel_launcher.py:7: SettingWithCopyWarning: \n",
            "A value is trying to be set on a copy of a slice from a DataFrame\n",
            "\n",
            "See the caveats in the documentation: https://pandas.pydata.org/pandas-docs/stable/user_guide/indexing.html#returning-a-view-versus-a-copy\n",
            "  import sys\n",
            "/usr/local/lib/python3.7/dist-packages/ipykernel_launcher.py:8: SettingWithCopyWarning: \n",
            "A value is trying to be set on a copy of a slice from a DataFrame\n",
            "\n",
            "See the caveats in the documentation: https://pandas.pydata.org/pandas-docs/stable/user_guide/indexing.html#returning-a-view-versus-a-copy\n",
            "  \n"
          ]
        }
      ]
    },
    {
      "cell_type": "markdown",
      "metadata": {
        "id": "Fd6l-ILcsJKb"
      },
      "source": [
        "# **Tokenization**"
      ]
    },
    {
      "cell_type": "code",
      "metadata": {
        "id": "2B_g-rQfsHy8"
      },
      "source": [
        "for i in range(len(text)):\n",
        "    text[i] = text[i].split()"
      ],
      "execution_count": 11,
      "outputs": []
    },
    {
      "cell_type": "code",
      "metadata": {
        "id": "7WuK2FEvsQw6"
      },
      "source": [
        "for i in range(len(lem_text)):\n",
        "    lem_text[i] = lem_text[i].split()"
      ],
      "execution_count": 12,
      "outputs": []
    },
    {
      "cell_type": "markdown",
      "metadata": {
        "id": "-d5TrMM-sVvB"
      },
      "source": [
        "# **Stemmation**"
      ]
    },
    {
      "cell_type": "code",
      "metadata": {
        "id": "9dbJ8EeZsbD_"
      },
      "source": [
        "from nltk import PorterStemmer\n",
        "st = PorterStemmer()\n",
        "for i in range(len(text)):\n",
        "    text[i] = [st.stem(word) for word in text[i]]"
      ],
      "execution_count": 13,
      "outputs": []
    },
    {
      "cell_type": "markdown",
      "metadata": {
        "id": "iVVsRMjQsjCf"
      },
      "source": [
        "# **Lemmatization**"
      ]
    },
    {
      "cell_type": "code",
      "metadata": {
        "id": "IQWtrDggsmVs"
      },
      "source": [
        "from nltk.stem import WordNetLemmatizer\n",
        "  \n",
        "lemmatizer = WordNetLemmatizer()\n",
        "\n",
        "for i in range(len(lem_text)):\n",
        "    lem_text[i] = [lemmatizer.lemmatize(word) for word in lem_text[i]]"
      ],
      "execution_count": 14,
      "outputs": []
    },
    {
      "cell_type": "markdown",
      "metadata": {
        "id": "ZfvxZNSRsvab"
      },
      "source": [
        "# **Recombining Tokens**"
      ]
    },
    {
      "cell_type": "code",
      "metadata": {
        "id": "JhjhKymPs0tE",
        "colab": {
          "base_uri": "https://localhost:8080/",
          "height": 35
        },
        "outputId": "978b6886-6e8f-4184-91de-1c13d8d21181"
      },
      "source": [
        "for i in range(len(text)):\n",
        "    text[i] = \" \".join(text[i])\n",
        "\n",
        "text[0]"
      ],
      "execution_count": 15,
      "outputs": [
        {
          "output_type": "execute_result",
          "data": {
            "application/vnd.google.colaboratory.intrinsic+json": {
              "type": "string"
            },
            "text/plain": [
              "'appel arraign accus tri along five accus offenc punish section read ss. ipc st addit session judg madhepura.'"
            ]
          },
          "metadata": {},
          "execution_count": 15
        }
      ]
    },
    {
      "cell_type": "code",
      "metadata": {
        "id": "4Zmn7N9Zs8wi",
        "colab": {
          "base_uri": "https://localhost:8080/",
          "height": 35
        },
        "outputId": "0c1fcc80-8ee9-41b1-848a-384dbc70f331"
      },
      "source": [
        "for i in range(len(lem_text)):\n",
        "    lem_text[i] = \" \".join(lem_text[i])\n",
        "\n",
        "lem_text[0]"
      ],
      "execution_count": 16,
      "outputs": [
        {
          "output_type": "execute_result",
          "data": {
            "application/vnd.google.colaboratory.intrinsic+json": {
              "type": "string"
            },
            "text/plain": [
              "'appellant arraigned accused tried along five accused offence punishable section read ss. ipc st additional session judge madhepura.'"
            ]
          },
          "metadata": {},
          "execution_count": 16
        }
      ]
    },
    {
      "cell_type": "code",
      "metadata": {
        "id": "vl64OryBtD4M",
        "colab": {
          "base_uri": "https://localhost:8080/",
          "height": 545
        },
        "outputId": "6dff5de4-0bb4-4fd3-d245-2502e3294869"
      },
      "source": [
        "dataset1['lem_text'] = np.array(lem_text)\n",
        "dataset1['stem_text'] = np.array(text)\n",
        "\n",
        "dataset1"
      ],
      "execution_count": 17,
      "outputs": [
        {
          "output_type": "execute_result",
          "data": {
            "text/html": [
              "<div>\n",
              "<style scoped>\n",
              "    .dataframe tbody tr th:only-of-type {\n",
              "        vertical-align: middle;\n",
              "    }\n",
              "\n",
              "    .dataframe tbody tr th {\n",
              "        vertical-align: top;\n",
              "    }\n",
              "\n",
              "    .dataframe thead th {\n",
              "        text-align: right;\n",
              "    }\n",
              "</style>\n",
              "<table border=\"1\" class=\"dataframe\">\n",
              "  <thead>\n",
              "    <tr style=\"text-align: right;\">\n",
              "      <th></th>\n",
              "      <th>Text</th>\n",
              "      <th>labels</th>\n",
              "      <th>num_labels</th>\n",
              "      <th>lem_text</th>\n",
              "      <th>stem_text</th>\n",
              "    </tr>\n",
              "  </thead>\n",
              "  <tbody>\n",
              "    <tr>\n",
              "      <th>0</th>\n",
              "      <td>The appellant who was arraigned as Accused  wa...</td>\n",
              "      <td>Facts</td>\n",
              "      <td>0</td>\n",
              "      <td>appellant arraigned accused tried along five a...</td>\n",
              "      <td>appel arraign accus tri along five accus offen...</td>\n",
              "    </tr>\n",
              "    <tr>\n",
              "      <th>1</th>\n",
              "      <td>The allegations against the accused inter alia...</td>\n",
              "      <td>Facts</td>\n",
              "      <td>0</td>\n",
              "      <td>allegation accused inter alia subjected one bi...</td>\n",
              "      <td>alleg accus inter alia subject one bindula dev...</td>\n",
              "    </tr>\n",
              "    <tr>\n",
              "      <th>2</th>\n",
              "      <td>Bindula Devi was married to Accused  Jaipraksh...</td>\n",
              "      <td>Facts</td>\n",
              "      <td>0</td>\n",
              "      <td>bindula devi married accused jaipraksh yadav.</td>\n",
              "      <td>bindula devi marri accus jaipraksh yadav.</td>\n",
              "    </tr>\n",
              "    <tr>\n",
              "      <th>3</th>\n",
              "      <td>The appellant and Accused  Shakun Devo Yadav a...</td>\n",
              "      <td>Facts</td>\n",
              "      <td>0</td>\n",
              "      <td>appellant accused shakun devo yadav brother ac...</td>\n",
              "      <td>appel accus shakun devo yadav brother accus ja...</td>\n",
              "    </tr>\n",
              "    <tr>\n",
              "      <th>4</th>\n",
              "      <td>Accused  Dani Dutta Yadav is their father and ...</td>\n",
              "      <td>Facts</td>\n",
              "      <td>0</td>\n",
              "      <td>accused dani dutta yadav father accused satya ...</td>\n",
              "      <td>accus dani dutta yadav father accus satya bham...</td>\n",
              "    </tr>\n",
              "    <tr>\n",
              "      <th>...</th>\n",
              "      <td>...</td>\n",
              "      <td>...</td>\n",
              "      <td>...</td>\n",
              "      <td>...</td>\n",
              "      <td>...</td>\n",
              "    </tr>\n",
              "    <tr>\n",
              "      <th>11280</th>\n",
              "      <td>Suffice it to state that the appellantas a fac...</td>\n",
              "      <td>Ratio of the decision</td>\n",
              "      <td>4</td>\n",
              "      <td>suffice state appellantas facthad used trade m...</td>\n",
              "      <td>suffic state appellanta facthad use trade mark...</td>\n",
              "    </tr>\n",
              "    <tr>\n",
              "      <th>11281</th>\n",
              "      <td>The High Courtin our viewdeclinedfor good reas...</td>\n",
              "      <td>Ratio of the decision</td>\n",
              "      <td>4</td>\n",
              "      <td>high courtin viewdeclinedfor good reasonsto re...</td>\n",
              "      <td>high courtin viewdeclinedfor good reasonsto re...</td>\n",
              "    </tr>\n",
              "    <tr>\n",
              "      <th>11282</th>\n",
              "      <td>We are also not persuaded to take a different ...</td>\n",
              "      <td>Ratio of the decision</td>\n",
              "      <td>4</td>\n",
              "      <td>also persuaded take different view high court</td>\n",
              "      <td>also persuad take differ view high court</td>\n",
              "    </tr>\n",
              "    <tr>\n",
              "      <th>11283</th>\n",
              "      <td>In these circumstanceswe are of the view that ...</td>\n",
              "      <td>Ratio of the decision</td>\n",
              "      <td>4</td>\n",
              "      <td>circumstanceswe view high court properly exerc...</td>\n",
              "      <td>circumstancesw view high court properli exerci...</td>\n",
              "    </tr>\n",
              "    <tr>\n",
              "      <th>11284</th>\n",
              "      <td>The appeal is accordingly dismissed butin the ...</td>\n",
              "      <td>Ruling by Present Court</td>\n",
              "      <td>6</td>\n",
              "      <td>appeal accordingly dismissed butin circumstanc...</td>\n",
              "      <td>appeal accordingli dismiss butin circumstances...</td>\n",
              "    </tr>\n",
              "  </tbody>\n",
              "</table>\n",
              "<p>11285 rows × 5 columns</p>\n",
              "</div>"
            ],
            "text/plain": [
              "                                                    Text  ...                                          stem_text\n",
              "0      The appellant who was arraigned as Accused  wa...  ...  appel arraign accus tri along five accus offen...\n",
              "1      The allegations against the accused inter alia...  ...  alleg accus inter alia subject one bindula dev...\n",
              "2      Bindula Devi was married to Accused  Jaipraksh...  ...          bindula devi marri accus jaipraksh yadav.\n",
              "3      The appellant and Accused  Shakun Devo Yadav a...  ...  appel accus shakun devo yadav brother accus ja...\n",
              "4      Accused  Dani Dutta Yadav is their father and ...  ...  accus dani dutta yadav father accus satya bham...\n",
              "...                                                  ...  ...                                                ...\n",
              "11280  Suffice it to state that the appellantas a fac...  ...  suffic state appellanta facthad use trade mark...\n",
              "11281  The High Courtin our viewdeclinedfor good reas...  ...  high courtin viewdeclinedfor good reasonsto re...\n",
              "11282  We are also not persuaded to take a different ...  ...           also persuad take differ view high court\n",
              "11283  In these circumstanceswe are of the view that ...  ...  circumstancesw view high court properli exerci...\n",
              "11284  The appeal is accordingly dismissed butin the ...  ...  appeal accordingli dismiss butin circumstances...\n",
              "\n",
              "[11285 rows x 5 columns]"
            ]
          },
          "metadata": {},
          "execution_count": 17
        }
      ]
    },
    {
      "cell_type": "code",
      "metadata": {
        "id": "D1m2LxFuukpJ",
        "colab": {
          "base_uri": "https://localhost:8080/"
        },
        "outputId": "cc524c58-b8cb-4f83-ace4-d7b89a69b886"
      },
      "source": [
        "dataset1.labels.value_counts()"
      ],
      "execution_count": 18,
      "outputs": [
        {
          "output_type": "execute_result",
          "data": {
            "text/plain": [
              "Ratio of the decision      4211\n",
              "Facts                      2622\n",
              "Precedent                  1787\n",
              "Argument                    939\n",
              "Statute                     902\n",
              "Ruling by Lower Court       483\n",
              "Ruling by Present Court     341\n",
              "Name: labels, dtype: int64"
            ]
          },
          "metadata": {},
          "execution_count": 18
        }
      ]
    },
    {
      "cell_type": "code",
      "metadata": {
        "id": "JEvOfTfgu0kT",
        "colab": {
          "base_uri": "https://localhost:8080/"
        },
        "outputId": "a1b306bd-921f-4661-a231-e04c094754b1"
      },
      "source": [
        "dataset1.drop_duplicates(['lem_text']).labels.value_counts()"
      ],
      "execution_count": 19,
      "outputs": [
        {
          "output_type": "execute_result",
          "data": {
            "text/plain": [
              "Ratio of the decision      4146\n",
              "Facts                      2566\n",
              "Precedent                  1754\n",
              "Argument                    905\n",
              "Statute                     867\n",
              "Ruling by Lower Court       476\n",
              "Ruling by Present Court     276\n",
              "Name: labels, dtype: int64"
            ]
          },
          "metadata": {},
          "execution_count": 19
        }
      ]
    },
    {
      "cell_type": "markdown",
      "metadata": {
        "id": "wzJZvhZqvfdM"
      },
      "source": [
        "# **Handling Imbalanced Dataset**"
      ]
    },
    {
      "cell_type": "code",
      "metadata": {
        "id": "tDM_2IvxvkeU"
      },
      "source": [
        "from sklearn.utils import shuffle\n",
        "\n",
        "lemm = []\n",
        "labels = []\n",
        "THRESH_1 = 1500\n",
        "THRESH_2 = 500\n",
        "\n",
        "for group in dataset1.labels.unique():\n",
        "    if len(dataset1.groupby('labels').get_group(group).lem_text.unique()) > THRESH_1:\n",
        "        lemm += (list(shuffle(dataset1.groupby('labels').get_group(group).lem_text.unique())))\n",
        "        lemm += (list(shuffle(dataset1.groupby('labels').get_group(group).lem_text.unique())))\n",
        "        labels += ([group]*2*len(list(shuffle(dataset1.groupby('labels').get_group(group).lem_text.unique()))))\n",
        "\n",
        "    elif len(dataset1.groupby('labels').get_group(group).lem_text.unique()) > THRESH_2:\n",
        "        lemm += (list(shuffle(dataset1.groupby('labels').get_group(group).lem_text.unique())))\n",
        "        lemm += (list(shuffle(dataset1.groupby('labels').get_group(group).lem_text.unique())))\n",
        "        lemm += (list(shuffle(dataset1.groupby('labels').get_group(group).lem_text.unique())))\n",
        "        lemm += (list(shuffle(dataset1.groupby('labels').get_group(group).lem_text.unique())))\n",
        "        labels += ([group]*4*len(list(shuffle(dataset1.groupby('labels').get_group(group).lem_text.unique()))))\n",
        "    else:\n",
        "        lemm += (list(shuffle(dataset1.groupby('labels').get_group(group).lem_text.unique())))\n",
        "        lemm += (list(shuffle(dataset1.groupby('labels').get_group(group).lem_text.unique())))\n",
        "        lemm += (list(shuffle(dataset1.groupby('labels').get_group(group).lem_text.unique())))\n",
        "        lemm += (list(shuffle(dataset1.groupby('labels').get_group(group).lem_text.unique())))\n",
        "        lemm += (list(shuffle(dataset1.groupby('labels').get_group(group).lem_text.unique())))\n",
        "        lemm += (list(shuffle(dataset1.groupby('labels').get_group(group).lem_text.unique())))\n",
        "        labels += ([group]*6*len(list(shuffle(dataset1.groupby('labels').get_group(group).lem_text.unique()))))"
      ],
      "execution_count": 20,
      "outputs": []
    },
    {
      "cell_type": "code",
      "metadata": {
        "id": "axUZftrFyJzS",
        "colab": {
          "base_uri": "https://localhost:8080/"
        },
        "outputId": "f1cc266f-b79d-46c6-ee21-0989a6a5d65d"
      },
      "source": [
        "len(lemm)"
      ],
      "execution_count": 21,
      "outputs": [
        {
          "output_type": "execute_result",
          "data": {
            "text/plain": [
              "28750"
            ]
          },
          "metadata": {},
          "execution_count": 21
        }
      ]
    },
    {
      "cell_type": "code",
      "metadata": {
        "id": "ue2jXHsiyd7t"
      },
      "source": [
        "balanced_df = pd.DataFrame({'Text' : lemm, 'Labels': labels})"
      ],
      "execution_count": 22,
      "outputs": []
    },
    {
      "cell_type": "code",
      "metadata": {
        "id": "QNXt9KqsyoVB",
        "colab": {
          "base_uri": "https://localhost:8080/"
        },
        "outputId": "688ada90-a87a-479a-df8c-2d3f71617a85"
      },
      "source": [
        "balanced_df.Labels.value_counts()"
      ],
      "execution_count": 23,
      "outputs": [
        {
          "output_type": "execute_result",
          "data": {
            "text/plain": [
              "Ratio of the decision      8328\n",
              "Facts                      5164\n",
              "Argument                   3672\n",
              "Precedent                  3528\n",
              "Statute                    3492\n",
              "Ruling by Lower Court      2892\n",
              "Ruling by Present Court    1674\n",
              "Name: Labels, dtype: int64"
            ]
          },
          "metadata": {},
          "execution_count": 23
        }
      ]
    },
    {
      "cell_type": "code",
      "metadata": {
        "id": "FMTxKcdizkBj"
      },
      "source": [
        "balanced_df['NumLabel'] = balanced_df.Labels.apply(text_to_numerical_category)"
      ],
      "execution_count": 24,
      "outputs": []
    },
    {
      "cell_type": "code",
      "metadata": {
        "id": "IvRyfQvJz08q",
        "colab": {
          "base_uri": "https://localhost:8080/",
          "height": 206
        },
        "outputId": "2dc97efc-c67b-4ad6-f802-e5b7b94b66bc"
      },
      "source": [
        "balanced_df.head()"
      ],
      "execution_count": 25,
      "outputs": [
        {
          "output_type": "execute_result",
          "data": {
            "text/html": [
              "<div>\n",
              "<style scoped>\n",
              "    .dataframe tbody tr th:only-of-type {\n",
              "        vertical-align: middle;\n",
              "    }\n",
              "\n",
              "    .dataframe tbody tr th {\n",
              "        vertical-align: top;\n",
              "    }\n",
              "\n",
              "    .dataframe thead th {\n",
              "        text-align: right;\n",
              "    }\n",
              "</style>\n",
              "<table border=\"1\" class=\"dataframe\">\n",
              "  <thead>\n",
              "    <tr style=\"text-align: right;\">\n",
              "      <th></th>\n",
              "      <th>Text</th>\n",
              "      <th>Labels</th>\n",
              "      <th>NumLabel</th>\n",
              "    </tr>\n",
              "  </thead>\n",
              "  <tbody>\n",
              "    <tr>\n",
              "      <th>0</th>\n",
              "      <td>hencethe appointment receiver terminated immed...</td>\n",
              "      <td>Facts</td>\n",
              "      <td>0</td>\n",
              "    </tr>\n",
              "    <tr>\n",
              "      <th>1</th>\n",
              "      <td>question extent burden</td>\n",
              "      <td>Facts</td>\n",
              "      <td>0</td>\n",
              "    </tr>\n",
              "    <tr>\n",
              "      <th>2</th>\n",
              "      <td>aggrieved judgment order allahabad high court ...</td>\n",
              "      <td>Facts</td>\n",
              "      <td>0</td>\n",
              "    </tr>\n",
              "    <tr>\n",
              "      <th>3</th>\n",
              "      <td>premisesfurniturefixturefuelelectricityutensil...</td>\n",
              "      <td>Facts</td>\n",
              "      <td>0</td>\n",
              "    </tr>\n",
              "    <tr>\n",
              "      <th>4</th>\n",
              "      <td>stand taken present appellant tribunal high co...</td>\n",
              "      <td>Facts</td>\n",
              "      <td>0</td>\n",
              "    </tr>\n",
              "  </tbody>\n",
              "</table>\n",
              "</div>"
            ],
            "text/plain": [
              "                                                Text Labels  NumLabel\n",
              "0  hencethe appointment receiver terminated immed...  Facts         0\n",
              "1                             question extent burden  Facts         0\n",
              "2  aggrieved judgment order allahabad high court ...  Facts         0\n",
              "3  premisesfurniturefixturefuelelectricityutensil...  Facts         0\n",
              "4  stand taken present appellant tribunal high co...  Facts         0"
            ]
          },
          "metadata": {},
          "execution_count": 25
        }
      ]
    },
    {
      "cell_type": "code",
      "metadata": {
        "id": "XDzTIiUEPY-o",
        "colab": {
          "base_uri": "https://localhost:8080/",
          "height": 366
        },
        "outputId": "b9a0e83f-d600-4c6d-efb6-b8f9c4bb3489"
      },
      "source": [
        "sns.set_theme(style=\"darkgrid\")\n",
        "x = dataset1['labels'].value_counts()\n",
        "y = x.index\n",
        "plt.figure(figsize=(10, 5))\n",
        "g = sns.barplot(x=x, y=y)\n",
        "plt.title(\"Labels Frequency Distribution\", fontsize=20)\n",
        "plt.ylabel('Labels', fontsize= 20)\n",
        "plt.yticks(fontsize=11)\n",
        "plt.xlabel('Frequency', fontsize=20)\n",
        "plt.xticks(fontsize=10)\n",
        "plt.show()"
      ],
      "execution_count": 26,
      "outputs": [
        {
          "output_type": "display_data",
          "data": {
            "image/png": "[encoded data removed]",
            "text/plain": [
              "<Figure size 720x360 with 1 Axes>"
            ]
          },
          "metadata": {}
        }
      ]
    },
    {
      "cell_type": "code",
      "metadata": {
        "id": "dNsvKLU5QAv-",
        "colab": {
          "base_uri": "https://localhost:8080/",
          "height": 366
        },
        "outputId": "c34856f8-a48d-4301-9b22-60fa9cbbbe13"
      },
      "source": [
        "sns.set_theme(style=\"darkgrid\")\n",
        "x = balanced_df.Labels.value_counts()\n",
        "y = x.index\n",
        "plt.figure(figsize=(10, 5))\n",
        "g = sns.barplot(x=x, y=y)\n",
        "plt.title(\"Event Frequency Distribution [India]\", fontsize=20)\n",
        "plt.ylabel('Events', fontsize= 20)\n",
        "plt.yticks(fontsize=11)\n",
        "plt.xlabel('Frequency', fontsize=20)\n",
        "plt.xticks(fontsize=10)\n",
        "plt.show()"
      ],
      "execution_count": 27,
      "outputs": [
        {
          "output_type": "display_data",
          "data": {
            "image/png": "[encoded data removed]",
            "text/plain": [
              "<Figure size 720x360 with 1 Axes>"
            ]
          },
          "metadata": {}
        }
      ]
    },
    {
      "cell_type": "code",
      "metadata": {
        "id": "4I0j932fQTng",
        "colab": {
          "base_uri": "https://localhost:8080/",
          "height": 596
        },
        "outputId": "151275aa-15ec-4f49-e61c-29cdba144d21"
      },
      "source": [
        "plt.figure(figsize=(30,10))\n",
        "plt.title('Percentage of Different Labels', fontsize=20)\n",
        "balanced_df.Labels.value_counts().plot(kind='pie', labels= balanced_df.Labels.unique(),\n",
        "                              wedgeprops=dict(width=.7), autopct='%1.0f%%', startangle= -20, \n",
        "                              textprops={'fontsize': 15})\n",
        "plt.legend(loc='upper left')\n",
        "plt.show()"
      ],
      "execution_count": 28,
      "outputs": [
        {
          "output_type": "display_data",
          "data": {
            "image/png": "[encoded data removed]",
            "text/plain": [
              "<Figure size 2160x720 with 1 Axes>"
            ]
          },
          "metadata": {}
        }
      ]
    },
    {
      "cell_type": "code",
      "metadata": {
        "id": "61JUkunEyxNk",
        "colab": {
          "base_uri": "https://localhost:8080/",
          "height": 596
        },
        "outputId": "f8b414c2-e772-4b6f-81b1-e144c38cf8a9"
      },
      "source": [
        "plt.figure(figsize=(30,10))\n",
        "plt.title('Percentage of Different Labels', fontsize=20)\n",
        "dataset1.labels.value_counts().plot(kind='pie', labels= dataset1.labels.unique(),\n",
        "                              wedgeprops=dict(width=.7), autopct='%1.0f%%', startangle= -20, \n",
        "                              textprops={'fontsize': 15})\n",
        "plt.legend(loc='upper left')\n",
        "plt.show()"
      ],
      "execution_count": 29,
      "outputs": [
        {
          "output_type": "display_data",
          "data": {
            "image/png": "[encoded data removed]",
            "text/plain": [
              "<Figure size 2160x720 with 1 Axes>"
            ]
          },
          "metadata": {}
        }
      ]
    },
    {
      "cell_type": "markdown",
      "metadata": {
        "id": "P4cm0JTfz3jf"
      },
      "source": [
        "# **BERT**"
      ]
    },
    {
      "cell_type": "markdown",
      "metadata": {
        "id": "LTlb-tuY0AAv"
      },
      "source": [
        "**Tokenization**"
      ]
    },
    {
      "cell_type": "code",
      "metadata": {
        "id": "xbZyNNEg0UK4"
      },
      "source": [
        "max_classes = len(balanced_df.Labels.unique())"
      ],
      "execution_count": 30,
      "outputs": []
    },
    {
      "cell_type": "code",
      "metadata": {
        "id": "l1-xXR1r0k25"
      },
      "source": [
        "from sklearn.utils import shuffle\n",
        "from sklearn.model_selection import train_test_split\n",
        "result = shuffle(balanced_df)\n",
        "from sklearn.model_selection import KFold"
      ],
      "execution_count": 32,
      "outputs": []
    },
    {
      "cell_type": "code",
      "metadata": {
        "id": "w20j2gIf0ttd",
        "colab": {
          "base_uri": "https://localhost:8080/"
        },
        "outputId": "7358043b-9dbc-40db-eb9a-32f3e79b3904"
      },
      "source": [
        "#X_train, X_test, Y_train, Y_test = train_test_split(balanced_df.Text, balanced_df.NumLabel, test_size = 0.1, random_state = 42, stratify =balanced_df.NumLabel)\n",
        "\n",
        "\n",
        "kf = KFold(n_splits=5)\n",
        "kf.get_n_splits(result.Text)\n",
        "print(kf)\n",
        "KFold(n_splits=5, random_state=None, shuffle=True)\n",
        "\n",
        "for train_index, test_index in kf.split(result.Text):\n",
        "     print(\"TRAIN:\", train_index, \"TEST:\", test_index)\n",
        "     X_train, X_test = result.Text[train_index], result.Text[test_index]\n",
        "     y_train, y_test = result.NumLabel[train_index], result.NumLabel[test_index]\n",
        "     print(X_train, X_test, y_train, y_test)\n"
      ],
      "execution_count": 33,
      "outputs": [
        {
          "output_type": "stream",
          "name": "stdout",
          "text": [
            "KFold(n_splits=5, random_state=None, shuffle=False)\n",
            "TRAIN: [ 5750  5751  5752 ... 28747 28748 28749] TEST: [   0    1    2 ... 5747 5748 5749]\n",
            "5750     application filed party contempt order hon'ble...\n",
            "5751     labour court dismissed application maintainabl...\n",
            "5752     case u objection taken multiplicity misjoinder...\n",
            "5753                     writ appeal disposed accordingly.\n",
            "5754        list suit direction th november th december .\"\n",
            "                               ...                        \n",
            "28745                                                     \n",
            "28746                 grey street idol absolute dedication\n",
            "28747    result therefore decision labour appellate tri...\n",
            "28748                                appeal partly allowed\n",
            "28749    go without saying learned tribunal shall deal ...\n",
            "Name: Text, Length: 23000, dtype: object 0       hencethe appointment receiver terminated immed...\n",
            "1                                  question extent burden\n",
            "2       aggrieved judgment order allahabad high court ...\n",
            "3       premisesfurniturefixturefuelelectricityutensil...\n",
            "4       stand taken present appellant tribunal high co...\n",
            "                              ...                        \n",
            "5745    view difference opinion member bench bench dir...\n",
            "5746    howeverit observed: \"howeverit made clear stat...\n",
            "5747    grey street absolute property idol made declar...\n",
            "5748    industrial tribunal-cum-labour court declined ...\n",
            "5749    ipc sentenced undergo rigorous imprisonment fi...\n",
            "Name: Text, Length: 5750, dtype: object 5750     1\n",
            "5751     1\n",
            "5752     1\n",
            "5753     1\n",
            "5754     1\n",
            "        ..\n",
            "28745    6\n",
            "28746    6\n",
            "28747    6\n",
            "28748    6\n",
            "28749    6\n",
            "Name: NumLabel, Length: 23000, dtype: int64 0       0\n",
            "1       0\n",
            "2       0\n",
            "3       0\n",
            "4       0\n",
            "       ..\n",
            "5745    1\n",
            "5746    1\n",
            "5747    1\n",
            "5748    1\n",
            "5749    1\n",
            "Name: NumLabel, Length: 5750, dtype: int64\n",
            "TRAIN: [    0     1     2 ... 28747 28748 28749] TEST: [ 5750  5751  5752 ... 11497 11498 11499]\n",
            "0        hencethe appointment receiver terminated immed...\n",
            "1                                   question extent burden\n",
            "2        aggrieved judgment order allahabad high court ...\n",
            "3        premisesfurniturefixturefuelelectricityutensil...\n",
            "4        stand taken present appellant tribunal high co...\n",
            "                               ...                        \n",
            "28745                                                     \n",
            "28746                 grey street idol absolute dedication\n",
            "28747    result therefore decision labour appellate tri...\n",
            "28748                                appeal partly allowed\n",
            "28749    go without saying learned tribunal shall deal ...\n",
            "Name: Text, Length: 23000, dtype: object 5750     application filed party contempt order hon'ble...\n",
            "5751     labour court dismissed application maintainabl...\n",
            "5752     case u objection taken multiplicity misjoinder...\n",
            "5753                     writ appeal disposed accordingly.\n",
            "5754        list suit direction th november th december .\"\n",
            "                               ...                        \n",
            "11495    according prosecution second raju bestowing su...\n",
            "11496    account maintained vesco used explained direct...\n",
            "11497    prashant g.desailearned counsel appearing beha...\n",
            "11498                         state bihar () scc indlaw sc\n",
            "11499    submitted high court waived payment fine amoun...\n",
            "Name: Text, Length: 5750, dtype: object 0        0\n",
            "1        0\n",
            "2        0\n",
            "3        0\n",
            "4        0\n",
            "        ..\n",
            "28745    6\n",
            "28746    6\n",
            "28747    6\n",
            "28748    6\n",
            "28749    6\n",
            "Name: NumLabel, Length: 23000, dtype: int64 5750     1\n",
            "5751     1\n",
            "5752     1\n",
            "5753     1\n",
            "5754     1\n",
            "        ..\n",
            "11495    2\n",
            "11496    2\n",
            "11497    2\n",
            "11498    2\n",
            "11499    2\n",
            "Name: NumLabel, Length: 5750, dtype: int64\n",
            "TRAIN: [    0     1     2 ... 28747 28748 28749] TEST: [11500 11501 11502 ... 17247 17248 17249]\n",
            "0        hencethe appointment receiver terminated immed...\n",
            "1                                   question extent burden\n",
            "2        aggrieved judgment order allahabad high court ...\n",
            "3        premisesfurniturefixturefuelelectricityutensil...\n",
            "4        stand taken present appellant tribunal high co...\n",
            "                               ...                        \n",
            "28745                                                     \n",
            "28746                 grey street idol absolute dedication\n",
            "28747    result therefore decision labour appellate tri...\n",
            "28748                                appeal partly allowed\n",
            "28749    go without saying learned tribunal shall deal ...\n",
            "Name: Text, Length: 23000, dtype: object 11500    shri shanker ghoshlearned counsel appellanturg...\n",
            "11501    caselearned counsel would submit expression 'i...\n",
            "11502    said chart however show least mrs. deepika meh...\n",
            "11503    sri t.l.viswanatha iyer also contended though ...\n",
            "11504    moreoverthere nothing record indicate linkage ...\n",
            "                               ...                        \n",
            "17245    manufacturer also require informed element tak...\n",
            "17246     even appointment local cadre must made authority\n",
            "17247                        forest department purpose act\n",
            "17248                                   no. put respondent\n",
            "17249    whether statute state kerala required approval...\n",
            "Name: Text, Length: 5750, dtype: object 0        0\n",
            "1        0\n",
            "2        0\n",
            "3        0\n",
            "4        0\n",
            "        ..\n",
            "28745    6\n",
            "28746    6\n",
            "28747    6\n",
            "28748    6\n",
            "28749    6\n",
            "Name: NumLabel, Length: 23000, dtype: int64 11500    2\n",
            "11501    2\n",
            "11502    2\n",
            "11503    2\n",
            "11504    2\n",
            "        ..\n",
            "17245    4\n",
            "17246    4\n",
            "17247    4\n",
            "17248    4\n",
            "17249    4\n",
            "Name: NumLabel, Length: 5750, dtype: int64\n",
            "TRAIN: [    0     1     2 ... 28747 28748 28749] TEST: [17250 17251 17252 ... 22997 22998 22999]\n",
            "0        hencethe appointment receiver terminated immed...\n",
            "1                                   question extent burden\n",
            "2        aggrieved judgment order allahabad high court ...\n",
            "3        premisesfurniturefixturefuelelectricityutensil...\n",
            "4        stand taken present appellant tribunal high co...\n",
            "                               ...                        \n",
            "28745                                                     \n",
            "28746                 grey street idol absolute dedication\n",
            "28747    result therefore decision labour appellate tri...\n",
            "28748                                appeal partly allowed\n",
            "28749    go without saying learned tribunal shall deal ...\n",
            "Name: Text, Length: 23000, dtype: object 17250    discovery must consequence information receive...\n",
            "17251              appellant manner cannot controvert fact\n",
            "17252    contention raised learned counsel appearing ap...\n",
            "17253    iv framing india's constitution - select docum...\n",
            "17254    new plea raised board division bench instead p...\n",
            "                               ...                        \n",
            "22995    previouslythere \"post-grant opposition\".previo...\n",
            "22996      must mistake error amenable clerical correction\n",
            "22997    notice learned special court relied upon decis...\n",
            "22998    power conferred exercisable time time.-() cent...\n",
            "22999    course attack one person second group killed r...\n",
            "Name: Text, Length: 5750, dtype: object 0        0\n",
            "1        0\n",
            "2        0\n",
            "3        0\n",
            "4        0\n",
            "        ..\n",
            "28745    6\n",
            "28746    6\n",
            "28747    6\n",
            "28748    6\n",
            "28749    6\n",
            "Name: NumLabel, Length: 23000, dtype: int64 17250    4\n",
            "17251    4\n",
            "17252    4\n",
            "17253    4\n",
            "17254    4\n",
            "        ..\n",
            "22995    4\n",
            "22996    4\n",
            "22997    4\n",
            "22998    4\n",
            "22999    4\n",
            "Name: NumLabel, Length: 5750, dtype: int64\n",
            "TRAIN: [    0     1     2 ... 22997 22998 22999] TEST: [23000 23001 23002 ... 28747 28748 28749]\n",
            "0        hencethe appointment receiver terminated immed...\n",
            "1                                   question extent burden\n",
            "2        aggrieved judgment order allahabad high court ...\n",
            "3        premisesfurniturefixturefuelelectricityutensil...\n",
            "4        stand taken present appellant tribunal high co...\n",
            "                               ...                        \n",
            "22995    previouslythere \"post-grant opposition\".previo...\n",
            "22996      must mistake error amenable clerical correction\n",
            "22997    notice learned special court relied upon decis...\n",
            "22998    power conferred exercisable time time.-() cent...\n",
            "22999    course attack one person second group killed r...\n",
            "Name: Text, Length: 23000, dtype: object 23000    received information incident telephone . p.m....\n",
            "23001    word \"raised land\" qualify 'crop' 'other produ...\n",
            "23002    asked telu ram's evidence also given possessio...\n",
            "23003            first respondent withdrew application m/s\n",
            "23004    law power alienate estate benefit soul husband...\n",
            "                               ...                        \n",
            "28745                                                     \n",
            "28746                 grey street idol absolute dedication\n",
            "28747    result therefore decision labour appellate tri...\n",
            "28748                                appeal partly allowed\n",
            "28749    go without saying learned tribunal shall deal ...\n",
            "Name: Text, Length: 5750, dtype: object 0        0\n",
            "1        0\n",
            "2        0\n",
            "3        0\n",
            "4        0\n",
            "        ..\n",
            "22995    4\n",
            "22996    4\n",
            "22997    4\n",
            "22998    4\n",
            "22999    4\n",
            "Name: NumLabel, Length: 23000, dtype: int64 23000    4\n",
            "23001    4\n",
            "23002    4\n",
            "23003    4\n",
            "23004    4\n",
            "        ..\n",
            "28745    6\n",
            "28746    6\n",
            "28747    6\n",
            "28748    6\n",
            "28749    6\n",
            "Name: NumLabel, Length: 5750, dtype: int64\n"
          ]
        }
      ]
    },
    {
      "cell_type": "code",
      "metadata": {
        "id": "nu59JE3H0yTK"
      },
      "source": [
        "bert_model_name = 'bert_en_uncased_L-12_H-768_A-12'\n",
        "bert_model_link = 'https://tfhub.dev/tensorflow/bert_en_uncased_L-12_H-768_A-12/4'\n",
        "bert_model_preprocessing_link = 'https://tfhub.dev/tensorflow/bert_en_uncased_preprocess/3'"
      ],
      "execution_count": 34,
      "outputs": []
    },
    {
      "cell_type": "code",
      "metadata": {
        "id": "OTGatwJt05bF"
      },
      "source": [
        "bert_preprocess_model = hub.KerasLayer(bert_model_preprocessing_link)"
      ],
      "execution_count": 35,
      "outputs": []
    },
    {
      "cell_type": "code",
      "metadata": {
        "id": "m3GNvgF309VZ"
      },
      "source": [
        "bert_model = hub.KerasLayer(bert_model_link)"
      ],
      "execution_count": 36,
      "outputs": []
    },
    {
      "cell_type": "code",
      "metadata": {
        "id": "OX83DjKx1BYZ"
      },
      "source": [
        "def build_classifier_model():\n",
        "    text_input = tf.keras.layers.Input(shape=(), dtype = tf.string, name='input-text')\n",
        "    preprocessing_layer = hub.KerasLayer(bert_model_preprocessing_link, name='bert-preprocessing')\n",
        "    encoder_inputs = preprocessing_layer(text_input)\n",
        "    encoder = hub.KerasLayer(bert_model_link, trainable=True, name='bert-encoder')\n",
        "    outputs = encoder(encoder_inputs)\n",
        "    net = outputs['pooled_output']\n",
        "    net = tf.keras.layers.Dropout(0.1)(net)\n",
        "    net = Dense(units= 512, activation='relu')(net)\n",
        "    net = tf.keras.layers.Dropout(0.1)(net)\n",
        "    net = Dense(units=max_classes, activation='softmax', name='classifer')(net)\n",
        "    return tf.keras.Model(text_input, net)"
      ],
      "execution_count": 37,
      "outputs": []
    },
    {
      "cell_type": "code",
      "metadata": {
        "id": "iIgKJNVC1Hae"
      },
      "source": [
        "classifier_model = build_classifier_model()\n",
        "# bert_raw_result = classifier_model(tf.constant(sample_text))"
      ],
      "execution_count": 38,
      "outputs": []
    },
    {
      "cell_type": "code",
      "metadata": {
        "id": "WXTP7uZ01LdX",
        "colab": {
          "base_uri": "https://localhost:8080/"
        },
        "outputId": "25ac51b0-95cc-4e3e-f121-2d9c52d918e5"
      },
      "source": [
        "classifier_model.summary()"
      ],
      "execution_count": 39,
      "outputs": [
        {
          "output_type": "stream",
          "name": "stdout",
          "text": [
            "Model: \"model\"\n",
            "__________________________________________________________________________________________________\n",
            " Layer (type)                   Output Shape         Param #     Connected to                     \n",
            "==================================================================================================\n",
            " input-text (InputLayer)        [(None,)]            0           []                               \n",
            "                                                                                                  \n",
            " bert-preprocessing (KerasLayer  {'input_type_ids':   0          ['input-text[0][0]']             \n",
            " )                              (None, 128),                                                      \n",
            "                                 'input_mask': (Non                                               \n",
            "                                e, 128),                                                          \n",
            "                                 'input_word_ids':                                                \n",
            "                                (None, 128)}                                                      \n",
            "                                                                                                  \n",
            " bert-encoder (KerasLayer)      {'default': (None,   109482241   ['bert-preprocessing[0][0]',     \n",
            "                                768),                             'bert-preprocessing[0][1]',     \n",
            "                                 'encoder_outputs':               'bert-preprocessing[0][2]']     \n",
            "                                 [(None, 128, 768),                                               \n",
            "                                 (None, 128, 768),                                                \n",
            "                                 (None, 128, 768),                                                \n",
            "                                 (None, 128, 768),                                                \n",
            "                                 (None, 128, 768),                                                \n",
            "                                 (None, 128, 768),                                                \n",
            "                                 (None, 128, 768),                                                \n",
            "                                 (None, 128, 768),                                                \n",
            "                                 (None, 128, 768),                                                \n",
            "                                 (None, 128, 768),                                                \n",
            "                                 (None, 128, 768),                                                \n",
            "                                 (None, 128, 768)],                                               \n",
            "                                 'sequence_output':                                               \n",
            "                                 (None, 128, 768),                                                \n",
            "                                 'pooled_output': (                                               \n",
            "                                None, 768)}                                                       \n",
            "                                                                                                  \n",
            " dropout (Dropout)              (None, 768)          0           ['bert-encoder[0][13]']          \n",
            "                                                                                                  \n",
            " dense (Dense)                  (None, 512)          393728      ['dropout[0][0]']                \n",
            "                                                                                                  \n",
            " dropout_1 (Dropout)            (None, 512)          0           ['dense[0][0]']                  \n",
            "                                                                                                  \n",
            " classifer (Dense)              (None, 7)            3591        ['dropout_1[0][0]']              \n",
            "                                                                                                  \n",
            "==================================================================================================\n",
            "Total params: 109,879,560\n",
            "Trainable params: 109,879,559\n",
            "Non-trainable params: 1\n",
            "__________________________________________________________________________________________________\n"
          ]
        }
      ]
    },
    {
      "cell_type": "markdown",
      "metadata": {
        "id": "qPHYVuHA1Sdn"
      },
      "source": [
        "\n",
        "**Label** **Encoding**"
      ]
    },
    {
      "cell_type": "code",
      "metadata": {
        "id": "BG5IyQwe1Vs-"
      },
      "source": [
        "max_classes = len(balanced_df.Labels.unique())"
      ],
      "execution_count": 40,
      "outputs": []
    },
    {
      "cell_type": "markdown",
      "metadata": {
        "id": "W02v0ExB1efu"
      },
      "source": [
        "\n",
        "# **Hyperparameters**"
      ]
    },
    {
      "cell_type": "code",
      "metadata": {
        "id": "Luyi7V9Y1iFh"
      },
      "source": [
        "from tensorflow.keras.optimizers.schedules import PolynomialDecay\n",
        "\n",
        "EPOCHS = 2\n",
        "loss = tf.keras.losses.CategoricalCrossentropy(from_logits=False)\n",
        "batch_size = 32\n",
        "\n",
        "num_train_steps =  len((balanced_df.NumLabel) // batch_size) * EPOCHS\n",
        "lr_scheduler = PolynomialDecay(initial_learning_rate=5e-5,\n",
        "                               end_learning_rate=0.,\n",
        "                               decay_steps=num_train_steps\n",
        "                               )\n",
        "\n",
        "from tensorflow.keras.optimizers import Adam\n",
        "opt = Adam(learning_rate=lr_scheduler)"
      ],
      "execution_count": 41,
      "outputs": []
    },
    {
      "cell_type": "code",
      "metadata": {
        "id": "BOH_gnZs1ujx",
        "colab": {
          "base_uri": "https://localhost:8080/"
        },
        "outputId": "034f4b73-878c-4e78-f9b5-2bd39e402d76"
      },
      "source": [
        "from tensorflow.keras.callbacks import ModelCheckpoint, EarlyStopping\n",
        "!mkdir checkpoints\n",
        "\n",
        "MyCheckpoint = ModelCheckpoint('/content/checkpoints',\n",
        "                               monitor = 'val_categorical_accuracy',\n",
        "                               verbose = 1,\n",
        "                               save_best_only = True,\n",
        "                               save_weights_only = False)\n",
        "\n",
        "MyEarlyStopping = EarlyStopping(patience =1,\n",
        "                                monitor='val_categorical_accuracy',\n",
        "                                restore_best_weights = True,\n",
        "                                verbose = 1)\n",
        "\n",
        "import os\n",
        "os.path.exists('/content/checkpoints')"
      ],
      "execution_count": 42,
      "outputs": [
        {
          "output_type": "execute_result",
          "data": {
            "text/plain": [
              "True"
            ]
          },
          "metadata": {},
          "execution_count": 42
        }
      ]
    },
    {
      "cell_type": "markdown",
      "metadata": {
        "id": "KlaQuLJk1zIo"
      },
      "source": [
        "# **Class Weight Balancing**"
      ]
    },
    {
      "cell_type": "code",
      "metadata": {
        "id": "jPRHeWqg1xbd",
        "colab": {
          "base_uri": "https://localhost:8080/"
        },
        "outputId": "04d6f5f4-2c19-469b-c770-99b5ba761c6c"
      },
      "source": [
        "from sklearn.utils import class_weight\n",
        "class_weights_array = class_weight.compute_class_weight(class_weight='balanced'\n",
        "                                               ,classes=np.unique(balanced_df.NumLabel)\n",
        "                                               ,y=balanced_df.NumLabel)\n",
        "\n",
        "class_weights_array"
      ],
      "execution_count": 43,
      "outputs": [
        {
          "output_type": "execute_result",
          "data": {
            "text/plain": [
              "array([0.79534137, 1.42017388, 1.11850296, 1.16415614, 0.49317277,\n",
              "       1.17615775, 2.45349036])"
            ]
          },
          "metadata": {},
          "execution_count": 43
        }
      ]
    },
    {
      "cell_type": "code",
      "metadata": {
        "id": "TdiW2_Jn19iu",
        "colab": {
          "base_uri": "https://localhost:8080/"
        },
        "outputId": "cb6c8ef1-4fe9-48f0-9e7f-9c930a1f0d85"
      },
      "source": [
        "class_weights = {i : class_weights_array[i] for i in range(len(class_weights_array))}\n",
        "class_weights"
      ],
      "execution_count": 44,
      "outputs": [
        {
          "output_type": "execute_result",
          "data": {
            "text/plain": [
              "{0: 0.7953413743498948,\n",
              " 1: 1.4201738786801028,\n",
              " 2: 1.118502956738251,\n",
              " 3: 1.1641561386459345,\n",
              " 4: 0.49317277343213944,\n",
              " 5: 1.1761577483226968,\n",
              " 6: 2.4534903567161632}"
            ]
          },
          "metadata": {},
          "execution_count": 44
        }
      ]
    },
    {
      "cell_type": "markdown",
      "metadata": {
        "id": "fRyCjmhT2E6I"
      },
      "source": [
        "# **Building Model**"
      ]
    },
    {
      "cell_type": "code",
      "metadata": {
        "id": "XpCgUJz-2If8"
      },
      "source": [
        "import tensorflow_addons as tfa\n",
        "\n",
        "macro_f1 = tfa.metrics.F1Score(num_classes=max_classes, average='macro')\n",
        "micro_f1 = tfa.metrics.F1Score(num_classes=max_classes, average='micro')\n",
        "weighted_f1 = tfa.metrics.F1Score(num_classes=max_classes, average='weighted')\n",
        "precision = tf.metrics.Precision()\n",
        "recall = tf.metrics.Recall()\n",
        "categorical_accuracry = tf.metrics.CategoricalAccuracy()\n",
        "\n",
        "metrics = [categorical_accuracry, micro_f1, precision, recall]"
      ],
      "execution_count": 45,
      "outputs": []
    },
    {
      "cell_type": "code",
      "metadata": {
        "id": "0rjs5ofI2PAh"
      },
      "source": [
        "classifier_model.compile(optimizer= opt,\n",
        "              loss= loss,\n",
        "              metrics = metrics)"
      ],
      "execution_count": 46,
      "outputs": []
    },
    {
      "cell_type": "code",
      "metadata": {
        "id": "cTm9oRPf2j0I",
        "colab": {
          "base_uri": "https://localhost:8080/",
          "height": 450
        },
        "outputId": "f4475af8-b98f-4636-ba4f-69c801fe0b9f"
      },
      "source": [
        "kf = KFold(n_splits=5)\n",
        "kf.get_n_splits(result.Text)\n",
        "print(kf)\n",
        "KFold(n_splits=5, random_state=None, shuffle=True)\n",
        "\n",
        "for train_index, test_index in kf.split(result.Text):\n",
        "     print(\"TRAIN:\", train_index, \"TEST:\", test_index)\n",
        "     X_train, X_test = result.Text[train_index], result.Text[test_index]\n",
        "     Y_train, Y_test = result.NumLabel[train_index], result.NumLabel[test_index]\n",
        "     encoded_labels_train = to_categorical(Y_train, num_classes=max_classes)\n",
        "     encoded_labels_test = to_categorical(Y_test, num_classes=max_classes)\n",
        "     train_dataset = tf.data.Dataset.from_tensor_slices((X_train, encoded_labels_train)).shuffle(70000).batch(batch_size).prefetch(tf.data.AUTOTUNE)\n",
        "     test_dataset = tf.data.Dataset.from_tensor_slices((X_test, encoded_labels_test)).shuffle(70000).batch(batch_size).prefetch(tf.data.AUTOTUNE)\n",
        "     classifier_model.fit(train_dataset,\n",
        "                     validation_data=test_dataset,\n",
        "                 epochs = EPOCHS,\n",
        "                 verbose = 1,\n",
        "                 class_weight=class_weights,\n",
        "                 callbacks = [MyCheckpoint, MyEarlyStopping]\n",
        "     )\n",
        "\n",
        "\n"
      ],
      "execution_count": 48,
      "outputs": [
        {
          "output_type": "stream",
          "name": "stdout",
          "text": [
            "KFold(n_splits=5, random_state=None, shuffle=False)\n",
            "TRAIN: [ 5750  5751  5752 ... 28747 28748 28749] TEST: [   0    1    2 ... 5747 5748 5749]\n",
            "Epoch 1/2\n",
            "  3/719 [..............................] - ETA: 18:49 - loss: 0.4085 - categorical_accuracy: 0.8438 - f1_score: 0.8438 - precision: 0.8804 - recall: 0.8438"
          ]
        },
        {
          "output_type": "error",
          "ename": "KeyboardInterrupt",
          "evalue": "ignored",
          "traceback": [
            "\u001b[0;31m---------------------------------------------------------------------------\u001b[0m",
            "\u001b[0;31mKeyboardInterrupt\u001b[0m                         Traceback (most recent call last)",
            "\u001b[0;32m<ipython-input-48-dc761e2408f6>\u001b[0m in \u001b[0;36m<module>\u001b[0;34m()\u001b[0m\n\u001b[1;32m     17\u001b[0m                  \u001b[0mverbose\u001b[0m \u001b[0;34m=\u001b[0m \u001b[0;36m1\u001b[0m\u001b[0;34m,\u001b[0m\u001b[0;34m\u001b[0m\u001b[0;34m\u001b[0m\u001b[0m\n\u001b[1;32m     18\u001b[0m                  \u001b[0mclass_weight\u001b[0m\u001b[0;34m=\u001b[0m\u001b[0mclass_weights\u001b[0m\u001b[0;34m,\u001b[0m\u001b[0;34m\u001b[0m\u001b[0;34m\u001b[0m\u001b[0m\n\u001b[0;32m---> 19\u001b[0;31m                  \u001b[0mcallbacks\u001b[0m \u001b[0;34m=\u001b[0m \u001b[0;34m[\u001b[0m\u001b[0mMyCheckpoint\u001b[0m\u001b[0;34m,\u001b[0m \u001b[0mMyEarlyStopping\u001b[0m\u001b[0;34m]\u001b[0m\u001b[0;34m\u001b[0m\u001b[0;34m\u001b[0m\u001b[0m\n\u001b[0m\u001b[1;32m     20\u001b[0m      )\n\u001b[1;32m     21\u001b[0m \u001b[0;34m\u001b[0m\u001b[0m\n",
            "\u001b[0;32m/usr/local/lib/python3.7/dist-packages/keras/utils/traceback_utils.py\u001b[0m in \u001b[0;36merror_handler\u001b[0;34m(*args, **kwargs)\u001b[0m\n\u001b[1;32m     62\u001b[0m     \u001b[0mfiltered_tb\u001b[0m \u001b[0;34m=\u001b[0m \u001b[0;32mNone\u001b[0m\u001b[0;34m\u001b[0m\u001b[0;34m\u001b[0m\u001b[0m\n\u001b[1;32m     63\u001b[0m     \u001b[0;32mtry\u001b[0m\u001b[0;34m:\u001b[0m\u001b[0;34m\u001b[0m\u001b[0;34m\u001b[0m\u001b[0m\n\u001b[0;32m---> 64\u001b[0;31m       \u001b[0;32mreturn\u001b[0m \u001b[0mfn\u001b[0m\u001b[0;34m(\u001b[0m\u001b[0;34m*\u001b[0m\u001b[0margs\u001b[0m\u001b[0;34m,\u001b[0m \u001b[0;34m**\u001b[0m\u001b[0mkwargs\u001b[0m\u001b[0;34m)\u001b[0m\u001b[0;34m\u001b[0m\u001b[0;34m\u001b[0m\u001b[0m\n\u001b[0m\u001b[1;32m     65\u001b[0m     \u001b[0;32mexcept\u001b[0m \u001b[0mException\u001b[0m \u001b[0;32mas\u001b[0m \u001b[0me\u001b[0m\u001b[0;34m:\u001b[0m  \u001b[0;31m# pylint: disable=broad-except\u001b[0m\u001b[0;34m\u001b[0m\u001b[0;34m\u001b[0m\u001b[0m\n\u001b[1;32m     66\u001b[0m       \u001b[0mfiltered_tb\u001b[0m \u001b[0;34m=\u001b[0m \u001b[0m_process_traceback_frames\u001b[0m\u001b[0;34m(\u001b[0m\u001b[0me\u001b[0m\u001b[0;34m.\u001b[0m\u001b[0m__traceback__\u001b[0m\u001b[0;34m)\u001b[0m\u001b[0;34m\u001b[0m\u001b[0;34m\u001b[0m\u001b[0m\n",
            "\u001b[0;32m/usr/local/lib/python3.7/dist-packages/keras/engine/training.py\u001b[0m in \u001b[0;36mfit\u001b[0;34m(self, x, y, batch_size, epochs, verbose, callbacks, validation_split, validation_data, shuffle, class_weight, sample_weight, initial_epoch, steps_per_epoch, validation_steps, validation_batch_size, validation_freq, max_queue_size, workers, use_multiprocessing)\u001b[0m\n\u001b[1;32m   1214\u001b[0m                 _r=1):\n\u001b[1;32m   1215\u001b[0m               \u001b[0mcallbacks\u001b[0m\u001b[0;34m.\u001b[0m\u001b[0mon_train_batch_begin\u001b[0m\u001b[0;34m(\u001b[0m\u001b[0mstep\u001b[0m\u001b[0;34m)\u001b[0m\u001b[0;34m\u001b[0m\u001b[0;34m\u001b[0m\u001b[0m\n\u001b[0;32m-> 1216\u001b[0;31m               \u001b[0mtmp_logs\u001b[0m \u001b[0;34m=\u001b[0m \u001b[0mself\u001b[0m\u001b[0;34m.\u001b[0m\u001b[0mtrain_function\u001b[0m\u001b[0;34m(\u001b[0m\u001b[0miterator\u001b[0m\u001b[0;34m)\u001b[0m\u001b[0;34m\u001b[0m\u001b[0;34m\u001b[0m\u001b[0m\n\u001b[0m\u001b[1;32m   1217\u001b[0m               \u001b[0;32mif\u001b[0m \u001b[0mdata_handler\u001b[0m\u001b[0;34m.\u001b[0m\u001b[0mshould_sync\u001b[0m\u001b[0;34m:\u001b[0m\u001b[0;34m\u001b[0m\u001b[0;34m\u001b[0m\u001b[0m\n\u001b[1;32m   1218\u001b[0m                 \u001b[0mcontext\u001b[0m\u001b[0;34m.\u001b[0m\u001b[0masync_wait\u001b[0m\u001b[0;34m(\u001b[0m\u001b[0;34m)\u001b[0m\u001b[0;34m\u001b[0m\u001b[0;34m\u001b[0m\u001b[0m\n",
            "\u001b[0;32m/usr/local/lib/python3.7/dist-packages/tensorflow/python/util/traceback_utils.py\u001b[0m in \u001b[0;36merror_handler\u001b[0;34m(*args, **kwargs)\u001b[0m\n\u001b[1;32m    148\u001b[0m     \u001b[0mfiltered_tb\u001b[0m \u001b[0;34m=\u001b[0m \u001b[0;32mNone\u001b[0m\u001b[0;34m\u001b[0m\u001b[0;34m\u001b[0m\u001b[0m\n\u001b[1;32m    149\u001b[0m     \u001b[0;32mtry\u001b[0m\u001b[0;34m:\u001b[0m\u001b[0;34m\u001b[0m\u001b[0;34m\u001b[0m\u001b[0m\n\u001b[0;32m--> 150\u001b[0;31m       \u001b[0;32mreturn\u001b[0m \u001b[0mfn\u001b[0m\u001b[0;34m(\u001b[0m\u001b[0;34m*\u001b[0m\u001b[0margs\u001b[0m\u001b[0;34m,\u001b[0m \u001b[0;34m**\u001b[0m\u001b[0mkwargs\u001b[0m\u001b[0;34m)\u001b[0m\u001b[0;34m\u001b[0m\u001b[0;34m\u001b[0m\u001b[0m\n\u001b[0m\u001b[1;32m    151\u001b[0m     \u001b[0;32mexcept\u001b[0m \u001b[0mException\u001b[0m \u001b[0;32mas\u001b[0m \u001b[0me\u001b[0m\u001b[0;34m:\u001b[0m\u001b[0;34m\u001b[0m\u001b[0;34m\u001b[0m\u001b[0m\n\u001b[1;32m    152\u001b[0m       \u001b[0mfiltered_tb\u001b[0m \u001b[0;34m=\u001b[0m \u001b[0m_process_traceback_frames\u001b[0m\u001b[0;34m(\u001b[0m\u001b[0me\u001b[0m\u001b[0;34m.\u001b[0m\u001b[0m__traceback__\u001b[0m\u001b[0;34m)\u001b[0m\u001b[0;34m\u001b[0m\u001b[0;34m\u001b[0m\u001b[0m\n",
            "\u001b[0;32m/usr/local/lib/python3.7/dist-packages/tensorflow/python/eager/def_function.py\u001b[0m in \u001b[0;36m__call__\u001b[0;34m(self, *args, **kwds)\u001b[0m\n\u001b[1;32m    908\u001b[0m \u001b[0;34m\u001b[0m\u001b[0m\n\u001b[1;32m    909\u001b[0m       \u001b[0;32mwith\u001b[0m \u001b[0mOptionalXlaContext\u001b[0m\u001b[0;34m(\u001b[0m\u001b[0mself\u001b[0m\u001b[0;34m.\u001b[0m\u001b[0m_jit_compile\u001b[0m\u001b[0;34m)\u001b[0m\u001b[0;34m:\u001b[0m\u001b[0;34m\u001b[0m\u001b[0;34m\u001b[0m\u001b[0m\n\u001b[0;32m--> 910\u001b[0;31m         \u001b[0mresult\u001b[0m \u001b[0;34m=\u001b[0m \u001b[0mself\u001b[0m\u001b[0;34m.\u001b[0m\u001b[0m_call\u001b[0m\u001b[0;34m(\u001b[0m\u001b[0;34m*\u001b[0m\u001b[0margs\u001b[0m\u001b[0;34m,\u001b[0m \u001b[0;34m**\u001b[0m\u001b[0mkwds\u001b[0m\u001b[0;34m)\u001b[0m\u001b[0;34m\u001b[0m\u001b[0;34m\u001b[0m\u001b[0m\n\u001b[0m\u001b[1;32m    911\u001b[0m \u001b[0;34m\u001b[0m\u001b[0m\n\u001b[1;32m    912\u001b[0m       \u001b[0mnew_tracing_count\u001b[0m \u001b[0;34m=\u001b[0m \u001b[0mself\u001b[0m\u001b[0;34m.\u001b[0m\u001b[0mexperimental_get_tracing_count\u001b[0m\u001b[0;34m(\u001b[0m\u001b[0;34m)\u001b[0m\u001b[0;34m\u001b[0m\u001b[0;34m\u001b[0m\u001b[0m\n",
            "\u001b[0;32m/usr/local/lib/python3.7/dist-packages/tensorflow/python/eager/def_function.py\u001b[0m in \u001b[0;36m_call\u001b[0;34m(self, *args, **kwds)\u001b[0m\n\u001b[1;32m    940\u001b[0m       \u001b[0;31m# In this case we have created variables on the first call, so we run the\u001b[0m\u001b[0;34m\u001b[0m\u001b[0;34m\u001b[0m\u001b[0;34m\u001b[0m\u001b[0m\n\u001b[1;32m    941\u001b[0m       \u001b[0;31m# defunned version which is guaranteed to never create variables.\u001b[0m\u001b[0;34m\u001b[0m\u001b[0;34m\u001b[0m\u001b[0;34m\u001b[0m\u001b[0m\n\u001b[0;32m--> 942\u001b[0;31m       \u001b[0;32mreturn\u001b[0m \u001b[0mself\u001b[0m\u001b[0;34m.\u001b[0m\u001b[0m_stateless_fn\u001b[0m\u001b[0;34m(\u001b[0m\u001b[0;34m*\u001b[0m\u001b[0margs\u001b[0m\u001b[0;34m,\u001b[0m \u001b[0;34m**\u001b[0m\u001b[0mkwds\u001b[0m\u001b[0;34m)\u001b[0m  \u001b[0;31m# pylint: disable=not-callable\u001b[0m\u001b[0;34m\u001b[0m\u001b[0;34m\u001b[0m\u001b[0m\n\u001b[0m\u001b[1;32m    943\u001b[0m     \u001b[0;32melif\u001b[0m \u001b[0mself\u001b[0m\u001b[0;34m.\u001b[0m\u001b[0m_stateful_fn\u001b[0m \u001b[0;32mis\u001b[0m \u001b[0;32mnot\u001b[0m \u001b[0;32mNone\u001b[0m\u001b[0;34m:\u001b[0m\u001b[0;34m\u001b[0m\u001b[0;34m\u001b[0m\u001b[0m\n\u001b[1;32m    944\u001b[0m       \u001b[0;31m# Release the lock early so that multiple threads can perform the call\u001b[0m\u001b[0;34m\u001b[0m\u001b[0;34m\u001b[0m\u001b[0;34m\u001b[0m\u001b[0m\n",
            "\u001b[0;32m/usr/local/lib/python3.7/dist-packages/tensorflow/python/eager/function.py\u001b[0m in \u001b[0;36m__call__\u001b[0;34m(self, *args, **kwargs)\u001b[0m\n\u001b[1;32m   3129\u001b[0m        filtered_flat_args) = self._maybe_define_function(args, kwargs)\n\u001b[1;32m   3130\u001b[0m     return graph_function._call_flat(\n\u001b[0;32m-> 3131\u001b[0;31m         filtered_flat_args, captured_inputs=graph_function.captured_inputs)  # pylint: disable=protected-access\n\u001b[0m\u001b[1;32m   3132\u001b[0m \u001b[0;34m\u001b[0m\u001b[0m\n\u001b[1;32m   3133\u001b[0m   \u001b[0;34m@\u001b[0m\u001b[0mproperty\u001b[0m\u001b[0;34m\u001b[0m\u001b[0;34m\u001b[0m\u001b[0m\n",
            "\u001b[0;32m/usr/local/lib/python3.7/dist-packages/tensorflow/python/eager/function.py\u001b[0m in \u001b[0;36m_call_flat\u001b[0;34m(self, args, captured_inputs, cancellation_manager)\u001b[0m\n\u001b[1;32m   1958\u001b[0m       \u001b[0;31m# No tape is watching; skip to running the function.\u001b[0m\u001b[0;34m\u001b[0m\u001b[0;34m\u001b[0m\u001b[0;34m\u001b[0m\u001b[0m\n\u001b[1;32m   1959\u001b[0m       return self._build_call_outputs(self._inference_function.call(\n\u001b[0;32m-> 1960\u001b[0;31m           ctx, args, cancellation_manager=cancellation_manager))\n\u001b[0m\u001b[1;32m   1961\u001b[0m     forward_backward = self._select_forward_and_backward_functions(\n\u001b[1;32m   1962\u001b[0m         \u001b[0margs\u001b[0m\u001b[0;34m,\u001b[0m\u001b[0;34m\u001b[0m\u001b[0;34m\u001b[0m\u001b[0m\n",
            "\u001b[0;32m/usr/local/lib/python3.7/dist-packages/tensorflow/python/eager/function.py\u001b[0m in \u001b[0;36mcall\u001b[0;34m(self, ctx, args, cancellation_manager)\u001b[0m\n\u001b[1;32m    601\u001b[0m               \u001b[0minputs\u001b[0m\u001b[0;34m=\u001b[0m\u001b[0margs\u001b[0m\u001b[0;34m,\u001b[0m\u001b[0;34m\u001b[0m\u001b[0;34m\u001b[0m\u001b[0m\n\u001b[1;32m    602\u001b[0m               \u001b[0mattrs\u001b[0m\u001b[0;34m=\u001b[0m\u001b[0mattrs\u001b[0m\u001b[0;34m,\u001b[0m\u001b[0;34m\u001b[0m\u001b[0;34m\u001b[0m\u001b[0m\n\u001b[0;32m--> 603\u001b[0;31m               ctx=ctx)\n\u001b[0m\u001b[1;32m    604\u001b[0m         \u001b[0;32melse\u001b[0m\u001b[0;34m:\u001b[0m\u001b[0;34m\u001b[0m\u001b[0;34m\u001b[0m\u001b[0m\n\u001b[1;32m    605\u001b[0m           outputs = execute.execute_with_cancellation(\n",
            "\u001b[0;32m/usr/local/lib/python3.7/dist-packages/tensorflow/python/eager/execute.py\u001b[0m in \u001b[0;36mquick_execute\u001b[0;34m(op_name, num_outputs, inputs, attrs, ctx, name)\u001b[0m\n\u001b[1;32m     57\u001b[0m     \u001b[0mctx\u001b[0m\u001b[0;34m.\u001b[0m\u001b[0mensure_initialized\u001b[0m\u001b[0;34m(\u001b[0m\u001b[0;34m)\u001b[0m\u001b[0;34m\u001b[0m\u001b[0;34m\u001b[0m\u001b[0m\n\u001b[1;32m     58\u001b[0m     tensors = pywrap_tfe.TFE_Py_Execute(ctx._handle, device_name, op_name,\n\u001b[0;32m---> 59\u001b[0;31m                                         inputs, attrs, num_outputs)\n\u001b[0m\u001b[1;32m     60\u001b[0m   \u001b[0;32mexcept\u001b[0m \u001b[0mcore\u001b[0m\u001b[0;34m.\u001b[0m\u001b[0m_NotOkStatusException\u001b[0m \u001b[0;32mas\u001b[0m \u001b[0me\u001b[0m\u001b[0;34m:\u001b[0m\u001b[0;34m\u001b[0m\u001b[0;34m\u001b[0m\u001b[0m\n\u001b[1;32m     61\u001b[0m     \u001b[0;32mif\u001b[0m \u001b[0mname\u001b[0m \u001b[0;32mis\u001b[0m \u001b[0;32mnot\u001b[0m \u001b[0;32mNone\u001b[0m\u001b[0;34m:\u001b[0m\u001b[0;34m\u001b[0m\u001b[0;34m\u001b[0m\u001b[0m\n",
            "\u001b[0;31mKeyboardInterrupt\u001b[0m: "
          ]
        }
      ]
    },
    {
      "cell_type": "code",
      "metadata": {
        "id": "DCilk5pSDUdD"
      },
      "source": [
        "classifier_model.save('BERT-Model.h5')"
      ],
      "execution_count": 49,
      "outputs": []
    },
    {
      "cell_type": "markdown",
      "metadata": {
        "id": "r3T5h9NH0Jm-"
      },
      "source": [
        "# **Testing**"
      ]
    },
    {
      "cell_type": "code",
      "metadata": {
        "colab": {
          "base_uri": "https://localhost:8080/"
        },
        "id": "R8iuHtVQCty9",
        "outputId": "50f0430b-9c8c-4182-e93e-d3d65d4c7b23"
      },
      "source": [
        "drive.mount('/content/drive')\n",
        "PATH = '/content/drive/MyDrive/Task1_Test/'\n",
        "list_dir = os.listdir(PATH)\n",
        "text = []\n",
        "labels = []\n",
        "sentid = []\n",
        "i=0\n",
        "for file in list_dir:\n",
        "    file_path = PATH + file\n",
        "    j=1\n",
        "    i=i+1\n",
        "    with open(file_path, 'r') as f:\n",
        "        for line in f:\n",
        "            line = line.split(sep='\\t')\n",
        "            text.append(line[0])\n",
        "            labels.append(line[1][:-1])\n",
        "            sentid.append(\"d\"+str(i)+\"_s\"+str(j))\n",
        "            j=j+1\n",
        "\n",
        "data = {'ID': sentid, 'Text': text, \"labels\": labels}\n",
        "test_file = pd.DataFrame(data=data)"
      ],
      "execution_count": 50,
      "outputs": [
        {
          "output_type": "stream",
          "name": "stdout",
          "text": [
            "Drive already mounted at /content/drive; to attempt to forcibly remount, call drive.mount(\"/content/drive\", force_remount=True).\n"
          ]
        }
      ]
    },
    {
      "cell_type": "code",
      "metadata": {
        "id": "_dCbKU7jE6Pc"
      },
      "source": [
        "# Remove Excess [Size:: ] from EoS\n",
        "def remove_size(text):\n",
        "\tresult = re.search(\"\\[size\", text)\n",
        "\tif result is not None:\n",
        "\t\ttext = text[:result.start()]\n",
        "\treturn text.strip()\n",
        "\n",
        "months = ['january', 'jan', 'feb', 'mar', 'apr', 'aug', 'sept', 'oct', 'nov', 'dec', 'feburary', 'february', 'march', 'april', 'may', 'june', 'july', 'august', 'september', 'october', 'november', 'december', 'on']\n",
        "def remove_months(text):\n",
        "    text = text.split()\n",
        "    text = [word for word in text if word.lower() not in set(months)]\n",
        "    text = ' '.join(text)\n",
        "    return text\n",
        "\n",
        "def remove_nums(text):\n",
        "    result = re.sub(r'[0-9+]', '', text)\n",
        "    return result\n",
        "\n",
        "def remove_comma(text):\n",
        "    result = re.sub(r',', '', text)\n",
        "    return result"
      ],
      "execution_count": 51,
      "outputs": []
    },
    {
      "cell_type": "code",
      "metadata": {
        "id": "MOcPvbqXFGnV"
      },
      "source": [
        "def text_cleaning(text):\n",
        "    text = remove_size(text)\n",
        "    text = remove_nums(text)\n",
        "    text = remove_months(text)\n",
        "    text = remove_comma(text)\n",
        "    return text.strip().lower()\n",
        "\n",
        "test_file['processed'] = test_file['Text'].apply(text_cleaning)"
      ],
      "execution_count": 52,
      "outputs": []
    },
    {
      "cell_type": "code",
      "metadata": {
        "id": "KTveXjE2Fepy",
        "colab": {
          "base_uri": "https://localhost:8080/",
          "height": 424
        },
        "outputId": "21b6b18f-f601-4488-a63b-2b967205eb71"
      },
      "source": [
        "test_file"
      ],
      "execution_count": 53,
      "outputs": [
        {
          "output_type": "execute_result",
          "data": {
            "text/html": [
              "<div>\n",
              "<style scoped>\n",
              "    .dataframe tbody tr th:only-of-type {\n",
              "        vertical-align: middle;\n",
              "    }\n",
              "\n",
              "    .dataframe tbody tr th {\n",
              "        vertical-align: top;\n",
              "    }\n",
              "\n",
              "    .dataframe thead th {\n",
              "        text-align: right;\n",
              "    }\n",
              "</style>\n",
              "<table border=\"1\" class=\"dataframe\">\n",
              "  <thead>\n",
              "    <tr style=\"text-align: right;\">\n",
              "      <th></th>\n",
              "      <th>ID</th>\n",
              "      <th>Text</th>\n",
              "      <th>labels</th>\n",
              "      <th>processed</th>\n",
              "    </tr>\n",
              "  </thead>\n",
              "  <tbody>\n",
              "    <tr>\n",
              "      <th>0</th>\n",
              "      <td>d1_s1</td>\n",
              "      <td>These two Criminal Appeals are preferred by th...</td>\n",
              "      <td>Facts</td>\n",
              "      <td>these two criminal appeals are preferred by th...</td>\n",
              "    </tr>\n",
              "    <tr>\n",
              "      <th>1</th>\n",
              "      <td>d1_s2</td>\n",
              "      <td>Application no. 1295 of 2011 and 1296 of 2011 ...</td>\n",
              "      <td>Facts</td>\n",
              "      <td>application no. of and of passed by the learne...</td>\n",
              "    </tr>\n",
              "    <tr>\n",
              "      <th>2</th>\n",
              "      <td>d1_s3</td>\n",
              "      <td>The respondent no. 1 Shyam Vithalrao Devkatta,...</td>\n",
              "      <td>Facts</td>\n",
              "      <td>the respondent no. shyam vithalrao devkatta fi...</td>\n",
              "    </tr>\n",
              "    <tr>\n",
              "      <th>3</th>\n",
              "      <td>d1_s4</td>\n",
              "      <td>Upon due verification process was issued by th...</td>\n",
              "      <td>Facts</td>\n",
              "      <td>upon due verification process was issued by th...</td>\n",
              "    </tr>\n",
              "    <tr>\n",
              "      <th>4</th>\n",
              "      <td>d1_s5</td>\n",
              "      <td>Of these accused, four approached the Bombay H...</td>\n",
              "      <td>Facts</td>\n",
              "      <td>of these accused four approached the bombay hi...</td>\n",
              "    </tr>\n",
              "    <tr>\n",
              "      <th>...</th>\n",
              "      <td>...</td>\n",
              "      <td>...</td>\n",
              "      <td>...</td>\n",
              "      <td>...</td>\n",
              "    </tr>\n",
              "    <tr>\n",
              "      <th>692</th>\n",
              "      <td>d10_s60</td>\n",
              "      <td>Applying the above principles, it is clear fro...</td>\n",
              "      <td>Ratio of the decision</td>\n",
              "      <td>applying the above principles it is clear from...</td>\n",
              "    </tr>\n",
              "    <tr>\n",
              "      <th>693</th>\n",
              "      <td>d10_s61</td>\n",
              "      <td>Kalawati was last seen in the company of the a...</td>\n",
              "      <td>Ratio of the decision</td>\n",
              "      <td>kalawati was last seen in the company of the a...</td>\n",
              "    </tr>\n",
              "    <tr>\n",
              "      <th>694</th>\n",
              "      <td>d10_s62</td>\n",
              "      <td>After his arrest, the production, by the appel...</td>\n",
              "      <td>Ratio of the decision</td>\n",
              "      <td>after his arrest the production by the appella...</td>\n",
              "    </tr>\n",
              "    <tr>\n",
              "      <th>695</th>\n",
              "      <td>d10_s63</td>\n",
              "      <td>To conclude, the appellant has been rightly co...</td>\n",
              "      <td>Ruling by Present Court</td>\n",
              "      <td>to conclude the appellant has been rightly con...</td>\n",
              "    </tr>\n",
              "    <tr>\n",
              "      <th>696</th>\n",
              "      <td>d10_s64</td>\n",
              "      <td>Appeal Dismissed.</td>\n",
              "      <td>Ruling by Present Court</td>\n",
              "      <td>appeal dismissed.</td>\n",
              "    </tr>\n",
              "  </tbody>\n",
              "</table>\n",
              "<p>697 rows × 4 columns</p>\n",
              "</div>"
            ],
            "text/plain": [
              "          ID  ...                                          processed\n",
              "0      d1_s1  ...  these two criminal appeals are preferred by th...\n",
              "1      d1_s2  ...  application no. of and of passed by the learne...\n",
              "2      d1_s3  ...  the respondent no. shyam vithalrao devkatta fi...\n",
              "3      d1_s4  ...  upon due verification process was issued by th...\n",
              "4      d1_s5  ...  of these accused four approached the bombay hi...\n",
              "..       ...  ...                                                ...\n",
              "692  d10_s60  ...  applying the above principles it is clear from...\n",
              "693  d10_s61  ...  kalawati was last seen in the company of the a...\n",
              "694  d10_s62  ...  after his arrest the production by the appella...\n",
              "695  d10_s63  ...  to conclude the appellant has been rightly con...\n",
              "696  d10_s64  ...                                  appeal dismissed.\n",
              "\n",
              "[697 rows x 4 columns]"
            ]
          },
          "metadata": {},
          "execution_count": 53
        }
      ]
    },
    {
      "cell_type": "code",
      "metadata": {
        "id": "54PZGJbvFqYs",
        "colab": {
          "base_uri": "https://localhost:8080/"
        },
        "outputId": "96da2aa8-dcb0-41ba-f6d0-fff5f2964e9f"
      },
      "source": [
        "lemmatizer = WordNetLemmatizer()\n",
        "from nltk import word_tokenize, WordNetLemmatizer\n",
        "from nltk.corpus import stopwords\n",
        "nltk.download('stopwords')\n",
        "def lemmatizing_headlines(text):\n",
        "    tokens = word_tokenize(text.lower())\n",
        "    tokens = [lemmatizer.lemmatize(word) for word in tokens if word not in set(stopwords.words('english'))]\n",
        "    return ' '.join(tokens).strip()\n",
        "\n",
        "test_file['processed'] = test_file['processed'].apply(lemmatizing_headlines)"
      ],
      "execution_count": 54,
      "outputs": [
        {
          "output_type": "stream",
          "name": "stdout",
          "text": [
            "[nltk_data] Downloading package stopwords to /root/nltk_data...\n",
            "[nltk_data]   Package stopwords is already up-to-date!\n"
          ]
        }
      ]
    },
    {
      "cell_type": "code",
      "metadata": {
        "id": "J6V3V84kF3Sq",
        "colab": {
          "base_uri": "https://localhost:8080/",
          "height": 206
        },
        "outputId": "8caa188b-cba6-4405-ff30-f6bf9a7dd554"
      },
      "source": [
        "test_file.head()"
      ],
      "execution_count": 55,
      "outputs": [
        {
          "output_type": "execute_result",
          "data": {
            "text/html": [
              "<div>\n",
              "<style scoped>\n",
              "    .dataframe tbody tr th:only-of-type {\n",
              "        vertical-align: middle;\n",
              "    }\n",
              "\n",
              "    .dataframe tbody tr th {\n",
              "        vertical-align: top;\n",
              "    }\n",
              "\n",
              "    .dataframe thead th {\n",
              "        text-align: right;\n",
              "    }\n",
              "</style>\n",
              "<table border=\"1\" class=\"dataframe\">\n",
              "  <thead>\n",
              "    <tr style=\"text-align: right;\">\n",
              "      <th></th>\n",
              "      <th>ID</th>\n",
              "      <th>Text</th>\n",
              "      <th>labels</th>\n",
              "      <th>processed</th>\n",
              "    </tr>\n",
              "  </thead>\n",
              "  <tbody>\n",
              "    <tr>\n",
              "      <th>0</th>\n",
              "      <td>d1_s1</td>\n",
              "      <td>These two Criminal Appeals are preferred by th...</td>\n",
              "      <td>Facts</td>\n",
              "      <td>two criminal appeal preferred accused judgment...</td>\n",
              "    </tr>\n",
              "    <tr>\n",
              "      <th>1</th>\n",
              "      <td>d1_s2</td>\n",
              "      <td>Application no. 1295 of 2011 and 1296 of 2011 ...</td>\n",
              "      <td>Facts</td>\n",
              "      <td>application . passed learned single judge bomb...</td>\n",
              "    </tr>\n",
              "    <tr>\n",
              "      <th>2</th>\n",
              "      <td>d1_s3</td>\n",
              "      <td>The respondent no. 1 Shyam Vithalrao Devkatta,...</td>\n",
              "      <td>Facts</td>\n",
              "      <td>respondent . shyam vithalrao devkatta filed co...</td>\n",
              "    </tr>\n",
              "    <tr>\n",
              "      <th>3</th>\n",
              "      <td>d1_s4</td>\n",
              "      <td>Upon due verification process was issued by th...</td>\n",
              "      <td>Facts</td>\n",
              "      <td>upon due verification process issued learned m...</td>\n",
              "    </tr>\n",
              "    <tr>\n",
              "      <th>4</th>\n",
              "      <td>d1_s5</td>\n",
              "      <td>Of these accused, four approached the Bombay H...</td>\n",
              "      <td>Facts</td>\n",
              "      <td>accused four approached bombay high court way ...</td>\n",
              "    </tr>\n",
              "  </tbody>\n",
              "</table>\n",
              "</div>"
            ],
            "text/plain": [
              "      ID  ...                                          processed\n",
              "0  d1_s1  ...  two criminal appeal preferred accused judgment...\n",
              "1  d1_s2  ...  application . passed learned single judge bomb...\n",
              "2  d1_s3  ...  respondent . shyam vithalrao devkatta filed co...\n",
              "3  d1_s4  ...  upon due verification process issued learned m...\n",
              "4  d1_s5  ...  accused four approached bombay high court way ...\n",
              "\n",
              "[5 rows x 4 columns]"
            ]
          },
          "metadata": {},
          "execution_count": 55
        }
      ]
    },
    {
      "cell_type": "code",
      "metadata": {
        "id": "rEaMah2jF8Zy"
      },
      "source": [
        "y_preds = np.argmax(classifier_model.predict(test_file.processed), axis=1)"
      ],
      "execution_count": 56,
      "outputs": []
    },
    {
      "cell_type": "code",
      "metadata": {
        "colab": {
          "base_uri": "https://localhost:8080/"
        },
        "id": "OH3LLhi3DO4z",
        "outputId": "7042f090-98f8-40d3-f215-b0c448d088a5"
      },
      "source": [
        "y_preds"
      ],
      "execution_count": 57,
      "outputs": [
        {
          "output_type": "execute_result",
          "data": {
            "text/plain": [
              "array([1, 0, 0, 1, 0, 1, 0, 0, 0, 1, 0, 0, 4, 0, 0, 2, 4, 0, 2, 1, 4, 1,\n",
              "       0, 2, 2, 2, 0, 2, 4, 0, 5, 5, 5, 5, 5, 5, 0, 3, 0, 0, 3, 3, 3, 4,\n",
              "       0, 5, 4, 4, 4, 4, 1, 3, 2, 4, 4, 3, 5, 3, 1, 3, 3, 3, 3, 3, 1, 0,\n",
              "       4, 3, 3, 3, 3, 3, 1, 4, 3, 4, 3, 0, 3, 1, 3, 3, 0, 3, 0, 3, 3, 0,\n",
              "       0, 1, 2, 0, 3, 3, 3, 1, 3, 3, 3, 3, 3, 3, 3, 3, 0, 0, 2, 0, 2, 4,\n",
              "       6, 0, 6, 0, 0, 0, 0, 0, 1, 0, 1, 1, 2, 4, 4, 2, 0, 2, 0, 2, 2, 2,\n",
              "       0, 2, 2, 2, 3, 2, 2, 2, 2, 2, 2, 1, 2, 0, 2, 2, 2, 0, 4, 0, 0, 0,\n",
              "       0, 0, 4, 0, 3, 0, 2, 0, 5, 3, 5, 5, 5, 5, 5, 5, 5, 5, 5, 5, 5, 5,\n",
              "       5, 5, 5, 5, 5, 5, 4, 0, 4, 0, 0, 0, 0, 4, 0, 4, 4, 4, 3, 3, 3, 0,\n",
              "       6, 0, 4, 2, 3, 0, 0, 0, 0, 4, 6, 6, 6, 0, 0, 0, 0, 0, 0, 0, 6, 0,\n",
              "       0, 0, 0, 0, 0, 0, 0, 0, 3, 0, 2, 0, 4, 3, 3, 3, 3, 0, 0, 3, 4, 3,\n",
              "       3, 4, 4, 5, 5, 5, 5, 0, 2, 5, 5, 5, 0, 3, 3, 6, 6, 6, 1, 0, 1, 1,\n",
              "       0, 1, 0, 0, 0, 3, 0, 0, 0, 0, 0, 0, 0, 0, 2, 0, 0, 0, 0, 0, 0, 0,\n",
              "       0, 0, 0, 0, 0, 5, 0, 2, 0, 0, 1, 4, 4, 0, 0, 4, 0, 1, 0, 4, 0, 0,\n",
              "       0, 0, 0, 0, 4, 0, 1, 0, 0, 0, 0, 0, 2, 4, 1, 1, 0, 0, 0, 0, 0, 2,\n",
              "       2, 4, 0, 0, 3, 0, 4, 6, 6, 6, 0, 6, 6, 0, 0, 4, 1, 0, 0, 0, 1, 3,\n",
              "       1, 0, 1, 3, 2, 4, 1, 1, 0, 4, 3, 1, 1, 1, 2, 2, 2, 2, 2, 2, 1, 1,\n",
              "       4, 1, 5, 4, 0, 4, 0, 2, 1, 0, 4, 4, 1, 4, 3, 2, 3, 3, 4, 4, 4, 4,\n",
              "       3, 4, 6, 4, 6, 0, 1, 3, 0, 2, 2, 1, 4, 1, 1, 0, 0, 1, 6, 0, 2, 2,\n",
              "       4, 4, 4, 1, 6, 4, 6, 3, 4, 3, 1, 4, 0, 4, 2, 4, 6, 3, 3, 4, 6, 6,\n",
              "       6, 4, 0, 0, 1, 0, 0, 4, 0, 4, 1, 2, 4, 2, 2, 1, 1, 1, 1, 0, 4, 4,\n",
              "       1, 1, 3, 0, 4, 0, 0, 0, 6, 1, 1, 4, 4, 1, 4, 1, 4, 1, 4, 6, 6, 3,\n",
              "       6, 6, 0, 1, 0, 0, 0, 1, 0, 0, 1, 1, 2, 2, 2, 1, 3, 2, 1, 4, 0, 4,\n",
              "       6, 4, 4, 4, 3, 3, 3, 3, 2, 2, 4, 0, 0, 5, 6, 2, 4, 3, 3, 0, 0, 4,\n",
              "       1, 4, 3, 3, 3, 3, 3, 2, 4, 3, 2, 4, 4, 4, 4, 0, 0, 3, 3, 1, 2, 4,\n",
              "       0, 0, 0, 4, 3, 1, 3, 3, 1, 2, 4, 1, 6, 6, 6, 0, 1, 4, 3, 0, 5, 4,\n",
              "       1, 0, 1, 4, 2, 4, 2, 4, 2, 4, 4, 2, 1, 4, 3, 1, 1, 3, 4, 4, 3, 5,\n",
              "       4, 4, 3, 4, 3, 3, 1, 4, 4, 3, 3, 1, 1, 4, 4, 5, 1, 4, 0, 4, 3, 0,\n",
              "       3, 3, 3, 3, 4, 4, 3, 4, 2, 0, 1, 1, 3, 6, 6, 6, 6, 6, 1, 0, 0, 0,\n",
              "       0, 0, 0, 0, 0, 1, 0, 1, 4, 4, 0, 0, 1, 4, 0, 0, 2, 0, 0, 0, 0, 0,\n",
              "       0, 0, 0, 4, 0, 0, 0, 4, 0, 4, 0, 2, 4, 2, 4, 2, 0, 0, 0, 4, 0, 1,\n",
              "       1, 4, 4, 1, 0, 3, 3, 3, 3, 3, 3, 0, 0, 6, 6])"
            ]
          },
          "metadata": {},
          "execution_count": 57
        }
      ]
    },
    {
      "cell_type": "code",
      "metadata": {
        "id": "WaVRJJ2oDV4-"
      },
      "source": [
        "test_file['pred-labels'] = y_preds"
      ],
      "execution_count": 58,
      "outputs": []
    },
    {
      "cell_type": "code",
      "metadata": {
        "colab": {
          "base_uri": "https://localhost:8080/",
          "height": 206
        },
        "id": "d_Idl703DZQR",
        "outputId": "f83e0c80-06f3-488d-b1ee-19b688e993e5"
      },
      "source": [
        "test_file.head()"
      ],
      "execution_count": 59,
      "outputs": [
        {
          "output_type": "execute_result",
          "data": {
            "text/html": [
              "<div>\n",
              "<style scoped>\n",
              "    .dataframe tbody tr th:only-of-type {\n",
              "        vertical-align: middle;\n",
              "    }\n",
              "\n",
              "    .dataframe tbody tr th {\n",
              "        vertical-align: top;\n",
              "    }\n",
              "\n",
              "    .dataframe thead th {\n",
              "        text-align: right;\n",
              "    }\n",
              "</style>\n",
              "<table border=\"1\" class=\"dataframe\">\n",
              "  <thead>\n",
              "    <tr style=\"text-align: right;\">\n",
              "      <th></th>\n",
              "      <th>ID</th>\n",
              "      <th>Text</th>\n",
              "      <th>labels</th>\n",
              "      <th>processed</th>\n",
              "      <th>pred-labels</th>\n",
              "    </tr>\n",
              "  </thead>\n",
              "  <tbody>\n",
              "    <tr>\n",
              "      <th>0</th>\n",
              "      <td>d1_s1</td>\n",
              "      <td>These two Criminal Appeals are preferred by th...</td>\n",
              "      <td>Facts</td>\n",
              "      <td>two criminal appeal preferred accused judgment...</td>\n",
              "      <td>1</td>\n",
              "    </tr>\n",
              "    <tr>\n",
              "      <th>1</th>\n",
              "      <td>d1_s2</td>\n",
              "      <td>Application no. 1295 of 2011 and 1296 of 2011 ...</td>\n",
              "      <td>Facts</td>\n",
              "      <td>application . passed learned single judge bomb...</td>\n",
              "      <td>0</td>\n",
              "    </tr>\n",
              "    <tr>\n",
              "      <th>2</th>\n",
              "      <td>d1_s3</td>\n",
              "      <td>The respondent no. 1 Shyam Vithalrao Devkatta,...</td>\n",
              "      <td>Facts</td>\n",
              "      <td>respondent . shyam vithalrao devkatta filed co...</td>\n",
              "      <td>0</td>\n",
              "    </tr>\n",
              "    <tr>\n",
              "      <th>3</th>\n",
              "      <td>d1_s4</td>\n",
              "      <td>Upon due verification process was issued by th...</td>\n",
              "      <td>Facts</td>\n",
              "      <td>upon due verification process issued learned m...</td>\n",
              "      <td>1</td>\n",
              "    </tr>\n",
              "    <tr>\n",
              "      <th>4</th>\n",
              "      <td>d1_s5</td>\n",
              "      <td>Of these accused, four approached the Bombay H...</td>\n",
              "      <td>Facts</td>\n",
              "      <td>accused four approached bombay high court way ...</td>\n",
              "      <td>0</td>\n",
              "    </tr>\n",
              "  </tbody>\n",
              "</table>\n",
              "</div>"
            ],
            "text/plain": [
              "      ID  ... pred-labels\n",
              "0  d1_s1  ...           1\n",
              "1  d1_s2  ...           0\n",
              "2  d1_s3  ...           0\n",
              "3  d1_s4  ...           1\n",
              "4  d1_s5  ...           0\n",
              "\n",
              "[5 rows x 5 columns]"
            ]
          },
          "metadata": {},
          "execution_count": 59
        }
      ]
    },
    {
      "cell_type": "code",
      "metadata": {
        "id": "t7oQxcOLDdnP"
      },
      "source": [
        "def num_to_text_labels(num):\n",
        "    text = event_types_dict_inverse[num]\n",
        "    return text\n",
        "\n",
        "test_file['text_labels'] = test_file['pred-labels'].apply(num_to_text_labels)"
      ],
      "execution_count": 60,
      "outputs": []
    },
    {
      "cell_type": "code",
      "metadata": {
        "colab": {
          "base_uri": "https://localhost:8080/",
          "height": 424
        },
        "id": "cLzrjoCDDg4n",
        "outputId": "dfaceadc-1586-4fd7-cfec-7036f182870b"
      },
      "source": [
        "test_file"
      ],
      "execution_count": 61,
      "outputs": [
        {
          "output_type": "execute_result",
          "data": {
            "text/html": [
              "<div>\n",
              "<style scoped>\n",
              "    .dataframe tbody tr th:only-of-type {\n",
              "        vertical-align: middle;\n",
              "    }\n",
              "\n",
              "    .dataframe tbody tr th {\n",
              "        vertical-align: top;\n",
              "    }\n",
              "\n",
              "    .dataframe thead th {\n",
              "        text-align: right;\n",
              "    }\n",
              "</style>\n",
              "<table border=\"1\" class=\"dataframe\">\n",
              "  <thead>\n",
              "    <tr style=\"text-align: right;\">\n",
              "      <th></th>\n",
              "      <th>ID</th>\n",
              "      <th>Text</th>\n",
              "      <th>labels</th>\n",
              "      <th>processed</th>\n",
              "      <th>pred-labels</th>\n",
              "      <th>text_labels</th>\n",
              "    </tr>\n",
              "  </thead>\n",
              "  <tbody>\n",
              "    <tr>\n",
              "      <th>0</th>\n",
              "      <td>d1_s1</td>\n",
              "      <td>These two Criminal Appeals are preferred by th...</td>\n",
              "      <td>Facts</td>\n",
              "      <td>two criminal appeal preferred accused judgment...</td>\n",
              "      <td>1</td>\n",
              "      <td>Ruling by Lower Court</td>\n",
              "    </tr>\n",
              "    <tr>\n",
              "      <th>1</th>\n",
              "      <td>d1_s2</td>\n",
              "      <td>Application no. 1295 of 2011 and 1296 of 2011 ...</td>\n",
              "      <td>Facts</td>\n",
              "      <td>application . passed learned single judge bomb...</td>\n",
              "      <td>0</td>\n",
              "      <td>Facts</td>\n",
              "    </tr>\n",
              "    <tr>\n",
              "      <th>2</th>\n",
              "      <td>d1_s3</td>\n",
              "      <td>The respondent no. 1 Shyam Vithalrao Devkatta,...</td>\n",
              "      <td>Facts</td>\n",
              "      <td>respondent . shyam vithalrao devkatta filed co...</td>\n",
              "      <td>0</td>\n",
              "      <td>Facts</td>\n",
              "    </tr>\n",
              "    <tr>\n",
              "      <th>3</th>\n",
              "      <td>d1_s4</td>\n",
              "      <td>Upon due verification process was issued by th...</td>\n",
              "      <td>Facts</td>\n",
              "      <td>upon due verification process issued learned m...</td>\n",
              "      <td>1</td>\n",
              "      <td>Ruling by Lower Court</td>\n",
              "    </tr>\n",
              "    <tr>\n",
              "      <th>4</th>\n",
              "      <td>d1_s5</td>\n",
              "      <td>Of these accused, four approached the Bombay H...</td>\n",
              "      <td>Facts</td>\n",
              "      <td>accused four approached bombay high court way ...</td>\n",
              "      <td>0</td>\n",
              "      <td>Facts</td>\n",
              "    </tr>\n",
              "    <tr>\n",
              "      <th>...</th>\n",
              "      <td>...</td>\n",
              "      <td>...</td>\n",
              "      <td>...</td>\n",
              "      <td>...</td>\n",
              "      <td>...</td>\n",
              "      <td>...</td>\n",
              "    </tr>\n",
              "    <tr>\n",
              "      <th>692</th>\n",
              "      <td>d10_s60</td>\n",
              "      <td>Applying the above principles, it is clear fro...</td>\n",
              "      <td>Ratio of the decision</td>\n",
              "      <td>applying principle clear finding two court cir...</td>\n",
              "      <td>3</td>\n",
              "      <td>Precedent</td>\n",
              "    </tr>\n",
              "    <tr>\n",
              "      <th>693</th>\n",
              "      <td>d10_s61</td>\n",
              "      <td>Kalawati was last seen in the company of the a...</td>\n",
              "      <td>Ratio of the decision</td>\n",
              "      <td>kalawati last seen company appellant gher even...</td>\n",
              "      <td>0</td>\n",
              "      <td>Facts</td>\n",
              "    </tr>\n",
              "    <tr>\n",
              "      <th>694</th>\n",
              "      <td>d10_s62</td>\n",
              "      <td>After his arrest, the production, by the appel...</td>\n",
              "      <td>Ratio of the decision</td>\n",
              "      <td>arrest production appellant ornament worn kala...</td>\n",
              "      <td>0</td>\n",
              "      <td>Facts</td>\n",
              "    </tr>\n",
              "    <tr>\n",
              "      <th>695</th>\n",
              "      <td>d10_s63</td>\n",
              "      <td>To conclude, the appellant has been rightly co...</td>\n",
              "      <td>Ruling by Present Court</td>\n",
              "      <td>conclude appellant rightly convicted sentenced...</td>\n",
              "      <td>6</td>\n",
              "      <td>Ruling by Present Court</td>\n",
              "    </tr>\n",
              "    <tr>\n",
              "      <th>696</th>\n",
              "      <td>d10_s64</td>\n",
              "      <td>Appeal Dismissed.</td>\n",
              "      <td>Ruling by Present Court</td>\n",
              "      <td>appeal dismissed .</td>\n",
              "      <td>6</td>\n",
              "      <td>Ruling by Present Court</td>\n",
              "    </tr>\n",
              "  </tbody>\n",
              "</table>\n",
              "<p>697 rows × 6 columns</p>\n",
              "</div>"
            ],
            "text/plain": [
              "          ID  ...              text_labels\n",
              "0      d1_s1  ...    Ruling by Lower Court\n",
              "1      d1_s2  ...                    Facts\n",
              "2      d1_s3  ...                    Facts\n",
              "3      d1_s4  ...    Ruling by Lower Court\n",
              "4      d1_s5  ...                    Facts\n",
              "..       ...  ...                      ...\n",
              "692  d10_s60  ...                Precedent\n",
              "693  d10_s61  ...                    Facts\n",
              "694  d10_s62  ...                    Facts\n",
              "695  d10_s63  ...  Ruling by Present Court\n",
              "696  d10_s64  ...  Ruling by Present Court\n",
              "\n",
              "[697 rows x 6 columns]"
            ]
          },
          "metadata": {},
          "execution_count": 61
        }
      ]
    },
    {
      "cell_type": "code",
      "metadata": {
        "colab": {
          "base_uri": "https://localhost:8080/",
          "height": 990
        },
        "id": "aOcHzlTyDkbQ",
        "outputId": "f73e619e-baa6-4496-97e6-0610479b3d99"
      },
      "source": [
        "from sklearn.metrics import classification_report\n",
        "print(classification_report(test_file.labels,test_file.text_labels))\n",
        "\n",
        "import seaborn as sns\n",
        "from sklearn.metrics import confusion_matrix\n",
        "conf_mat = confusion_matrix(list(test_file.labels), list(test_file['text_labels']))\n",
        "fig, ax = plt.subplots(figsize=(10,10))\n",
        "sns.heatmap(conf_mat, annot=True, fmt='d',\n",
        "            xticklabels=set(test_file.labels), yticklabels=set(test_file.labels))\n",
        "plt.ylabel('Actual')\n",
        "plt.xlabel('Predicted')\n",
        "plt.title('BERT oversampled')\n",
        "plt.show()"
      ],
      "execution_count": 62,
      "outputs": [
        {
          "output_type": "stream",
          "name": "stdout",
          "text": [
            "                         precision    recall  f1-score   support\n",
            "\n",
            "               Argument       0.55      0.73      0.63        56\n",
            "                  Facts       0.48      0.68      0.56       154\n",
            "              Precedent       0.40      0.56      0.47        79\n",
            "  Ratio of the decision       0.72      0.29      0.41       314\n",
            "  Ruling by Lower Court       0.17      0.60      0.26        25\n",
            "Ruling by Present Court       0.76      0.78      0.77        40\n",
            "                Statute       0.57      0.79      0.67        29\n",
            "\n",
            "               accuracy                           0.50       697\n",
            "              macro avg       0.52      0.63      0.54       697\n",
            "           weighted avg       0.59      0.50      0.49       697\n",
            "\n"
          ]
        },
        {
          "output_type": "display_data",
          "data": {
            "image/png": "[encoded data removed]",
            "text/plain": [
              "<Figure size 720x720 with 2 Axes>"
            ]
          },
          "metadata": {}
        }
      ]
    },
    {
      "cell_type": "code",
      "metadata": {
        "id": "voIe6cP9Dp70",
        "colab": {
          "base_uri": "https://localhost:8080/",
          "height": 615
        },
        "outputId": "8fe02d40-bb32-4a5d-9dd7-53777f3d79f7"
      },
      "source": [
        "run=[\"nit_agartala_nlp_team_1\"]*697\n",
        "test_file['run_id']=run\n",
        "test_file.rename(columns = {'ID':'docid_sentid', 'text-labels':'label'}, inplace = True)\n",
        "test_file"
      ],
      "execution_count": 63,
      "outputs": [
        {
          "output_type": "execute_result",
          "data": {
            "text/html": [
              "<div>\n",
              "<style scoped>\n",
              "    .dataframe tbody tr th:only-of-type {\n",
              "        vertical-align: middle;\n",
              "    }\n",
              "\n",
              "    .dataframe tbody tr th {\n",
              "        vertical-align: top;\n",
              "    }\n",
              "\n",
              "    .dataframe thead th {\n",
              "        text-align: right;\n",
              "    }\n",
              "</style>\n",
              "<table border=\"1\" class=\"dataframe\">\n",
              "  <thead>\n",
              "    <tr style=\"text-align: right;\">\n",
              "      <th></th>\n",
              "      <th>docid_sentid</th>\n",
              "      <th>Text</th>\n",
              "      <th>labels</th>\n",
              "      <th>processed</th>\n",
              "      <th>pred-labels</th>\n",
              "      <th>text_labels</th>\n",
              "      <th>run_id</th>\n",
              "    </tr>\n",
              "  </thead>\n",
              "  <tbody>\n",
              "    <tr>\n",
              "      <th>0</th>\n",
              "      <td>d1_s1</td>\n",
              "      <td>These two Criminal Appeals are preferred by th...</td>\n",
              "      <td>Facts</td>\n",
              "      <td>two criminal appeal preferred accused judgment...</td>\n",
              "      <td>1</td>\n",
              "      <td>Ruling by Lower Court</td>\n",
              "      <td>nit_agartala_nlp_team_1</td>\n",
              "    </tr>\n",
              "    <tr>\n",
              "      <th>1</th>\n",
              "      <td>d1_s2</td>\n",
              "      <td>Application no. 1295 of 2011 and 1296 of 2011 ...</td>\n",
              "      <td>Facts</td>\n",
              "      <td>application . passed learned single judge bomb...</td>\n",
              "      <td>0</td>\n",
              "      <td>Facts</td>\n",
              "      <td>nit_agartala_nlp_team_1</td>\n",
              "    </tr>\n",
              "    <tr>\n",
              "      <th>2</th>\n",
              "      <td>d1_s3</td>\n",
              "      <td>The respondent no. 1 Shyam Vithalrao Devkatta,...</td>\n",
              "      <td>Facts</td>\n",
              "      <td>respondent . shyam vithalrao devkatta filed co...</td>\n",
              "      <td>0</td>\n",
              "      <td>Facts</td>\n",
              "      <td>nit_agartala_nlp_team_1</td>\n",
              "    </tr>\n",
              "    <tr>\n",
              "      <th>3</th>\n",
              "      <td>d1_s4</td>\n",
              "      <td>Upon due verification process was issued by th...</td>\n",
              "      <td>Facts</td>\n",
              "      <td>upon due verification process issued learned m...</td>\n",
              "      <td>1</td>\n",
              "      <td>Ruling by Lower Court</td>\n",
              "      <td>nit_agartala_nlp_team_1</td>\n",
              "    </tr>\n",
              "    <tr>\n",
              "      <th>4</th>\n",
              "      <td>d1_s5</td>\n",
              "      <td>Of these accused, four approached the Bombay H...</td>\n",
              "      <td>Facts</td>\n",
              "      <td>accused four approached bombay high court way ...</td>\n",
              "      <td>0</td>\n",
              "      <td>Facts</td>\n",
              "      <td>nit_agartala_nlp_team_1</td>\n",
              "    </tr>\n",
              "    <tr>\n",
              "      <th>...</th>\n",
              "      <td>...</td>\n",
              "      <td>...</td>\n",
              "      <td>...</td>\n",
              "      <td>...</td>\n",
              "      <td>...</td>\n",
              "      <td>...</td>\n",
              "      <td>...</td>\n",
              "    </tr>\n",
              "    <tr>\n",
              "      <th>692</th>\n",
              "      <td>d10_s60</td>\n",
              "      <td>Applying the above principles, it is clear fro...</td>\n",
              "      <td>Ratio of the decision</td>\n",
              "      <td>applying principle clear finding two court cir...</td>\n",
              "      <td>3</td>\n",
              "      <td>Precedent</td>\n",
              "      <td>nit_agartala_nlp_team_1</td>\n",
              "    </tr>\n",
              "    <tr>\n",
              "      <th>693</th>\n",
              "      <td>d10_s61</td>\n",
              "      <td>Kalawati was last seen in the company of the a...</td>\n",
              "      <td>Ratio of the decision</td>\n",
              "      <td>kalawati last seen company appellant gher even...</td>\n",
              "      <td>0</td>\n",
              "      <td>Facts</td>\n",
              "      <td>nit_agartala_nlp_team_1</td>\n",
              "    </tr>\n",
              "    <tr>\n",
              "      <th>694</th>\n",
              "      <td>d10_s62</td>\n",
              "      <td>After his arrest, the production, by the appel...</td>\n",
              "      <td>Ratio of the decision</td>\n",
              "      <td>arrest production appellant ornament worn kala...</td>\n",
              "      <td>0</td>\n",
              "      <td>Facts</td>\n",
              "      <td>nit_agartala_nlp_team_1</td>\n",
              "    </tr>\n",
              "    <tr>\n",
              "      <th>695</th>\n",
              "      <td>d10_s63</td>\n",
              "      <td>To conclude, the appellant has been rightly co...</td>\n",
              "      <td>Ruling by Present Court</td>\n",
              "      <td>conclude appellant rightly convicted sentenced...</td>\n",
              "      <td>6</td>\n",
              "      <td>Ruling by Present Court</td>\n",
              "      <td>nit_agartala_nlp_team_1</td>\n",
              "    </tr>\n",
              "    <tr>\n",
              "      <th>696</th>\n",
              "      <td>d10_s64</td>\n",
              "      <td>Appeal Dismissed.</td>\n",
              "      <td>Ruling by Present Court</td>\n",
              "      <td>appeal dismissed .</td>\n",
              "      <td>6</td>\n",
              "      <td>Ruling by Present Court</td>\n",
              "      <td>nit_agartala_nlp_team_1</td>\n",
              "    </tr>\n",
              "  </tbody>\n",
              "</table>\n",
              "<p>697 rows × 7 columns</p>\n",
              "</div>"
            ],
            "text/plain": [
              "    docid_sentid  ...                   run_id\n",
              "0          d1_s1  ...  nit_agartala_nlp_team_1\n",
              "1          d1_s2  ...  nit_agartala_nlp_team_1\n",
              "2          d1_s3  ...  nit_agartala_nlp_team_1\n",
              "3          d1_s4  ...  nit_agartala_nlp_team_1\n",
              "4          d1_s5  ...  nit_agartala_nlp_team_1\n",
              "..           ...  ...                      ...\n",
              "692      d10_s60  ...  nit_agartala_nlp_team_1\n",
              "693      d10_s61  ...  nit_agartala_nlp_team_1\n",
              "694      d10_s62  ...  nit_agartala_nlp_team_1\n",
              "695      d10_s63  ...  nit_agartala_nlp_team_1\n",
              "696      d10_s64  ...  nit_agartala_nlp_team_1\n",
              "\n",
              "[697 rows x 7 columns]"
            ]
          },
          "metadata": {},
          "execution_count": 63
        }
      ]
    },
    {
      "cell_type": "code",
      "metadata": {
        "id": "QgK8-1_YX8hw"
      },
      "source": [
        "test_file = test_file.drop(['Text', 'labels', 'processed', 'pred-labels'], axis=1)"
      ],
      "execution_count": 64,
      "outputs": []
    },
    {
      "cell_type": "code",
      "metadata": {
        "id": "BTKsalm4NtEm"
      },
      "source": [
        "test_file.to_csv('nit_agartala_nlp_team_1.tsv', sep='\\t', index=False)"
      ],
      "execution_count": 65,
      "outputs": []
    },
    {
      "cell_type": "code",
      "metadata": {
        "id": "_LiIQNFlNxKl"
      },
      "source": [
        "trrr = pd.read_csv('nit_agartala_nlp_team_1.tsv', sep='\\t')"
      ],
      "execution_count": 66,
      "outputs": []
    },
    {
      "cell_type": "code",
      "metadata": {
        "id": "bGwf67tnNzo1",
        "colab": {
          "base_uri": "https://localhost:8080/",
          "height": 206
        },
        "outputId": "728c2932-3bd3-41b2-f6f3-983e21b46b47"
      },
      "source": [
        "trrr.head()"
      ],
      "execution_count": 67,
      "outputs": [
        {
          "output_type": "execute_result",
          "data": {
            "text/html": [
              "<div>\n",
              "<style scoped>\n",
              "    .dataframe tbody tr th:only-of-type {\n",
              "        vertical-align: middle;\n",
              "    }\n",
              "\n",
              "    .dataframe tbody tr th {\n",
              "        vertical-align: top;\n",
              "    }\n",
              "\n",
              "    .dataframe thead th {\n",
              "        text-align: right;\n",
              "    }\n",
              "</style>\n",
              "<table border=\"1\" class=\"dataframe\">\n",
              "  <thead>\n",
              "    <tr style=\"text-align: right;\">\n",
              "      <th></th>\n",
              "      <th>docid_sentid</th>\n",
              "      <th>text_labels</th>\n",
              "      <th>run_id</th>\n",
              "    </tr>\n",
              "  </thead>\n",
              "  <tbody>\n",
              "    <tr>\n",
              "      <th>0</th>\n",
              "      <td>d1_s1</td>\n",
              "      <td>Ruling by Lower Court</td>\n",
              "      <td>nit_agartala_nlp_team_1</td>\n",
              "    </tr>\n",
              "    <tr>\n",
              "      <th>1</th>\n",
              "      <td>d1_s2</td>\n",
              "      <td>Facts</td>\n",
              "      <td>nit_agartala_nlp_team_1</td>\n",
              "    </tr>\n",
              "    <tr>\n",
              "      <th>2</th>\n",
              "      <td>d1_s3</td>\n",
              "      <td>Facts</td>\n",
              "      <td>nit_agartala_nlp_team_1</td>\n",
              "    </tr>\n",
              "    <tr>\n",
              "      <th>3</th>\n",
              "      <td>d1_s4</td>\n",
              "      <td>Ruling by Lower Court</td>\n",
              "      <td>nit_agartala_nlp_team_1</td>\n",
              "    </tr>\n",
              "    <tr>\n",
              "      <th>4</th>\n",
              "      <td>d1_s5</td>\n",
              "      <td>Facts</td>\n",
              "      <td>nit_agartala_nlp_team_1</td>\n",
              "    </tr>\n",
              "  </tbody>\n",
              "</table>\n",
              "</div>"
            ],
            "text/plain": [
              "  docid_sentid            text_labels                   run_id\n",
              "0        d1_s1  Ruling by Lower Court  nit_agartala_nlp_team_1\n",
              "1        d1_s2                  Facts  nit_agartala_nlp_team_1\n",
              "2        d1_s3                  Facts  nit_agartala_nlp_team_1\n",
              "3        d1_s4  Ruling by Lower Court  nit_agartala_nlp_team_1\n",
              "4        d1_s5                  Facts  nit_agartala_nlp_team_1"
            ]
          },
          "metadata": {},
          "execution_count": 67
        }
      ]
    }
  ]
}